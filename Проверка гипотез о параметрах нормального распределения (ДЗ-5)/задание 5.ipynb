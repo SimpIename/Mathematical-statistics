{
 "cells": [
  {
   "cell_type": "markdown",
   "id": "1a5cc3e0",
   "metadata": {},
   "source": [
    "# Проверка гипотез о параметрах нормального распределения"
   ]
  },
  {
   "cell_type": "markdown",
   "id": "d9d03a84",
   "metadata": {},
   "source": [
    "## 0. Подготовка"
   ]
  },
  {
   "cell_type": "markdown",
   "id": "dc57b14f",
   "metadata": {},
   "source": [
    "### 0.1 Импорт нужных библиотек"
   ]
  },
  {
   "cell_type": "code",
   "execution_count": 3,
   "id": "e33bf3e5",
   "metadata": {},
   "outputs": [],
   "source": [
    "import numpy as np\n",
    "import pandas as pd\n",
    "import matplotlib.pyplot as plt\n",
    "from IPython.display import Markdown as md\n",
    "import math"
   ]
  },
  {
   "cell_type": "markdown",
   "id": "19fa38b8",
   "metadata": {},
   "source": [
    "### 0.2 Импорт выборки"
   ]
  },
  {
   "cell_type": "code",
   "execution_count": 4,
   "id": "d70f0831",
   "metadata": {},
   "outputs": [
    {
     "name": "stdout",
     "output_type": "stream",
     "text": [
      "        0      1       2      3      4      5      6      7      8      9\n",
      "0 -12.953 -6.924  -3.899 -5.577 -1.907 -7.126 -2.946 -5.936 -8.230 -7.434\n",
      "1   1.866 -7.803 -11.133 -4.278 -3.778 -7.213 -4.846 -8.924 -2.306 -4.360\n",
      "2  -1.266  0.274  -4.223 -4.767 -1.447 -2.341  3.133 -3.707 -6.248 -1.714\n",
      "3  -5.386 -3.212 -11.145 -6.166 -3.878 -1.743 -4.606 -2.666 -4.795 -2.660\n",
      "4  -3.798 -2.742  -3.989 -7.383 -5.028 -4.380 -2.598 -7.183 -4.557 -3.034\n",
      "5  -7.432 -7.505  -3.089 -5.018  0.633 -7.363 -1.919 -6.944 -1.967 -7.336\n",
      "6  -2.767 -6.135  -3.173 -2.852 -7.748 -1.776 -4.381 -5.021  0.088 -4.151\n",
      "7  -4.699 -1.634  -4.809  1.433 -2.706 -6.897 -1.722 -4.494 -9.873 -3.988\n"
     ]
    }
   ],
   "source": [
    "df = pd.read_csv ('lab5_data.csv', sep=';', header=None, decimal=\",\")\n",
    "df = df.astype('float')\n",
    "pd.set_option('display.expand_frame_repr', False)\n",
    "\n",
    "heading_properties = [('font-size', '18px')]\n",
    "cell_properties = [('font-size', '14px')]\n",
    "\n",
    "dfstyle = [dict(selector=\"th\", props=heading_properties), dict(selector=\"td\", props=cell_properties)]\n",
    "\n",
    "df.style.set_table_styles(dfstyle)\n",
    "\n",
    "print(df)"
   ]
  },
  {
   "cell_type": "markdown",
   "id": "e3bf6d61",
   "metadata": {},
   "source": [
    "### 0.3 Крайние члены вариационного ряда и размах выборки"
   ]
  },
  {
   "cell_type": "code",
   "execution_count": 5,
   "id": "3c0dc553",
   "metadata": {},
   "outputs": [
    {
     "name": "stdout",
     "output_type": "stream",
     "text": [
      "Количество элементов n: 80\n"
     ]
    }
   ],
   "source": [
    "n = df.shape[0] * df.shape[1]\n",
    "print('Количество элементов n:', n)"
   ]
  },
  {
   "cell_type": "code",
   "execution_count": 6,
   "id": "841f386d",
   "metadata": {},
   "outputs": [
    {
     "data": {
      "text/markdown": [
       "$X_{(1)} = -12.953$"
      ],
      "text/plain": [
       "<IPython.core.display.Markdown object>"
      ]
     },
     "execution_count": 6,
     "metadata": {},
     "output_type": "execute_result"
    }
   ],
   "source": [
    "df_min = df.to_numpy().min()\n",
    "md('$X_{{(1)}} = {}$'.format(df_min))\n"
   ]
  },
  {
   "cell_type": "code",
   "execution_count": 7,
   "id": "b0de4d5a",
   "metadata": {},
   "outputs": [
    {
     "data": {
      "text/markdown": [
       "$X_{(n)} = X_{(80)} = 3.133$"
      ],
      "text/plain": [
       "<IPython.core.display.Markdown object>"
      ]
     },
     "execution_count": 7,
     "metadata": {},
     "output_type": "execute_result"
    }
   ],
   "source": [
    "df_max = df.to_numpy().max()\n",
    "md('$X_{{(n)}} = X_{} = {}$'.format('{{({})}}'.format(n), df_max))"
   ]
  },
  {
   "cell_type": "code",
   "execution_count": 8,
   "id": "5cc962f1",
   "metadata": {},
   "outputs": [
    {
     "data": {
      "text/markdown": [
       "$\\omega = X_{(n)} - X_{(1)} = 16.086$"
      ],
      "text/plain": [
       "<IPython.core.display.Markdown object>"
      ]
     },
     "execution_count": 8,
     "metadata": {},
     "output_type": "execute_result"
    }
   ],
   "source": [
    "df_diff = df_max - df_min\n",
    "md('$\\omega = X_{{(n)}} - X_{{(1)}} = {}$'.format(df_diff))"
   ]
  },
  {
   "cell_type": "markdown",
   "id": "52c9c36a",
   "metadata": {},
   "source": [
    "### 0.4 Группировка данных"
   ]
  },
  {
   "cell_type": "markdown",
   "id": "aef56e0a",
   "metadata": {},
   "source": [
    "#### 0.4.1 Находим число интервалов"
   ]
  },
  {
   "cell_type": "code",
   "execution_count": 9,
   "id": "93bf2125",
   "metadata": {},
   "outputs": [
    {
     "name": "stdout",
     "output_type": "stream",
     "text": [
      "Количество интервалов l = 7\n"
     ]
    }
   ],
   "source": [
    "l = math.trunc(1 + np.log2(n))\n",
    "print('Количество интервалов l = {}'.format(l))"
   ]
  },
  {
   "cell_type": "markdown",
   "id": "b19dab12",
   "metadata": {},
   "source": [
    "#### 0.4.2 Находим шаг интервалов"
   ]
  },
  {
   "cell_type": "code",
   "execution_count": 10,
   "id": "52c06baa",
   "metadata": {},
   "outputs": [
    {
     "name": "stdout",
     "output_type": "stream",
     "text": [
      "Размер интервалов h = 2.2979999999999996\n"
     ]
    }
   ],
   "source": [
    "h = df_diff / l\n",
    "print('Размер интервалов h = {}'.format(h))"
   ]
  },
  {
   "cell_type": "markdown",
   "id": "a4926409",
   "metadata": {},
   "source": [
    "#### 0.4.3 Построение интервалов"
   ]
  },
  {
   "cell_type": "markdown",
   "id": "23ffb83f",
   "metadata": {},
   "source": [
    "Для построения гистограммы нам понадобится сначала столбец средних точек на каждом интервале:"
   ]
  },
  {
   "cell_type": "code",
   "execution_count": 11,
   "id": "0549e02c",
   "metadata": {},
   "outputs": [
    {
     "data": {
      "text/plain": [
       "[(-12.953, -10.655),\n",
       " (-10.655, -8.357),\n",
       " (-8.357, -6.059),\n",
       " (-6.059, -3.761),\n",
       " (-3.761, -1.463),\n",
       " (-1.463, 0.835),\n",
       " (0.835, 3.133)]"
      ]
     },
     "execution_count": 11,
     "metadata": {},
     "output_type": "execute_result"
    }
   ],
   "source": [
    "intervals = [(round(df_min + i * h, 3), round(df_min + (i + 1) * h, 3)) for i in range(l)]\n",
    "intervals"
   ]
  },
  {
   "cell_type": "code",
   "execution_count": 12,
   "id": "343c9e53",
   "metadata": {},
   "outputs": [
    {
     "data": {
      "text/html": [
       "<div>\n",
       "<style scoped>\n",
       "    .dataframe tbody tr th:only-of-type {\n",
       "        vertical-align: middle;\n",
       "    }\n",
       "\n",
       "    .dataframe tbody tr th {\n",
       "        vertical-align: top;\n",
       "    }\n",
       "\n",
       "    .dataframe thead th {\n",
       "        text-align: right;\n",
       "    }\n",
       "</style>\n",
       "<table border=\"1\" class=\"dataframe\">\n",
       "  <thead>\n",
       "    <tr style=\"text-align: right;\">\n",
       "      <th></th>\n",
       "      <th>Интервалы</th>\n",
       "      <th>Середины интервалов</th>\n",
       "    </tr>\n",
       "  </thead>\n",
       "  <tbody>\n",
       "    <tr>\n",
       "      <th>0</th>\n",
       "      <td>[-12.953, -10.655)</td>\n",
       "      <td>-11.804</td>\n",
       "    </tr>\n",
       "    <tr>\n",
       "      <th>1</th>\n",
       "      <td>[-10.655, -8.357)</td>\n",
       "      <td>-9.506</td>\n",
       "    </tr>\n",
       "    <tr>\n",
       "      <th>2</th>\n",
       "      <td>[-8.357, -6.059)</td>\n",
       "      <td>-7.208</td>\n",
       "    </tr>\n",
       "    <tr>\n",
       "      <th>3</th>\n",
       "      <td>[-6.059, -3.761)</td>\n",
       "      <td>-4.910</td>\n",
       "    </tr>\n",
       "    <tr>\n",
       "      <th>4</th>\n",
       "      <td>[-3.761, -1.463)</td>\n",
       "      <td>-2.612</td>\n",
       "    </tr>\n",
       "    <tr>\n",
       "      <th>5</th>\n",
       "      <td>[-1.463, 0.835)</td>\n",
       "      <td>-0.314</td>\n",
       "    </tr>\n",
       "    <tr>\n",
       "      <th>6</th>\n",
       "      <td>[0.835, 3.133]</td>\n",
       "      <td>1.984</td>\n",
       "    </tr>\n",
       "  </tbody>\n",
       "</table>\n",
       "</div>"
      ],
      "text/plain": [
       "            Интервалы  Середины интервалов\n",
       "0  [-12.953, -10.655)              -11.804\n",
       "1   [-10.655, -8.357)               -9.506\n",
       "2    [-8.357, -6.059)               -7.208\n",
       "3    [-6.059, -3.761)               -4.910\n",
       "4    [-3.761, -1.463)               -2.612\n",
       "5     [-1.463, 0.835)               -0.314\n",
       "6      [0.835, 3.133]                1.984"
      ]
     },
     "execution_count": 12,
     "metadata": {},
     "output_type": "execute_result"
    }
   ],
   "source": [
    "histogram = pd.DataFrame()\n",
    "interval_rows = ['[{}, {})'.format(val[0], val[1]) for val in intervals]\n",
    "interval_rows[l - 1] = '[{}, {}]'.format(intervals[l - 1][0], intervals[l - 1][1])\n",
    "histogram['Интервалы'] = interval_rows\n",
    "histogram['Середины интервалов'] = [(val[0] + val[1]) / 2 for val in intervals]\n",
    "histogram"
   ]
  },
  {
   "cell_type": "markdown",
   "id": "a8a4215d",
   "metadata": {},
   "source": [
    "Ну а дальше нужно посчитать количество точек, которые входят в каждый из интервалов:"
   ]
  },
  {
   "cell_type": "code",
   "execution_count": 13,
   "id": "cc29d49b",
   "metadata": {},
   "outputs": [
    {
     "data": {
      "text/html": [
       "<div>\n",
       "<style scoped>\n",
       "    .dataframe tbody tr th:only-of-type {\n",
       "        vertical-align: middle;\n",
       "    }\n",
       "\n",
       "    .dataframe tbody tr th {\n",
       "        vertical-align: top;\n",
       "    }\n",
       "\n",
       "    .dataframe thead th {\n",
       "        text-align: right;\n",
       "    }\n",
       "</style>\n",
       "<table border=\"1\" class=\"dataframe\">\n",
       "  <thead>\n",
       "    <tr style=\"text-align: right;\">\n",
       "      <th></th>\n",
       "      <th>Интервалы</th>\n",
       "      <th>Середины интервалов</th>\n",
       "      <th>Количество точек</th>\n",
       "    </tr>\n",
       "  </thead>\n",
       "  <tbody>\n",
       "    <tr>\n",
       "      <th>0</th>\n",
       "      <td>[-12.953, -10.655)</td>\n",
       "      <td>-11.804</td>\n",
       "      <td>3</td>\n",
       "    </tr>\n",
       "    <tr>\n",
       "      <th>1</th>\n",
       "      <td>[-10.655, -8.357)</td>\n",
       "      <td>-9.506</td>\n",
       "      <td>2</td>\n",
       "    </tr>\n",
       "    <tr>\n",
       "      <th>2</th>\n",
       "      <td>[-8.357, -6.059)</td>\n",
       "      <td>-7.208</td>\n",
       "      <td>18</td>\n",
       "    </tr>\n",
       "    <tr>\n",
       "      <th>3</th>\n",
       "      <td>[-6.059, -3.761)</td>\n",
       "      <td>-4.910</td>\n",
       "      <td>26</td>\n",
       "    </tr>\n",
       "    <tr>\n",
       "      <th>4</th>\n",
       "      <td>[-3.761, -1.463)</td>\n",
       "      <td>-2.612</td>\n",
       "      <td>23</td>\n",
       "    </tr>\n",
       "    <tr>\n",
       "      <th>5</th>\n",
       "      <td>[-1.463, 0.835)</td>\n",
       "      <td>-0.314</td>\n",
       "      <td>5</td>\n",
       "    </tr>\n",
       "    <tr>\n",
       "      <th>6</th>\n",
       "      <td>[0.835, 3.133]</td>\n",
       "      <td>1.984</td>\n",
       "      <td>3</td>\n",
       "    </tr>\n",
       "  </tbody>\n",
       "</table>\n",
       "</div>"
      ],
      "text/plain": [
       "            Интервалы  Середины интервалов  Количество точек\n",
       "0  [-12.953, -10.655)              -11.804                 3\n",
       "1   [-10.655, -8.357)               -9.506                 2\n",
       "2    [-8.357, -6.059)               -7.208                18\n",
       "3    [-6.059, -3.761)               -4.910                26\n",
       "4    [-3.761, -1.463)               -2.612                23\n",
       "5     [-1.463, 0.835)               -0.314                 5\n",
       "6      [0.835, 3.133]                1.984                 3"
      ]
     },
     "execution_count": 13,
     "metadata": {},
     "output_type": "execute_result"
    }
   ],
   "source": [
    "histogram['Количество точек'] = [0 for i in range(l)]\n",
    "\n",
    "for i in range(df.shape[0]):\n",
    "    for j in range(df.shape[1]):\n",
    "        value = float(df.at[i, j])\n",
    "        for k in range(l):\n",
    "            if value >= intervals[k][0] and value < intervals[k][1]:\n",
    "                histogram.iat[k, 2] += 1\n",
    "                break\n",
    "                \n",
    "        if value == intervals[l - 1][1]:\n",
    "            histogram.iat[l - 1, 2] += 1\n",
    "histogram"
   ]
  },
  {
   "cell_type": "markdown",
   "id": "0145d947",
   "metadata": {},
   "source": [
    "Убедимся, что все точки вошли в интервалы:"
   ]
  },
  {
   "cell_type": "code",
   "execution_count": 14,
   "id": "8678875b",
   "metadata": {},
   "outputs": [
    {
     "name": "stdout",
     "output_type": "stream",
     "text": [
      "Количество точек: 80\n"
     ]
    }
   ],
   "source": [
    "print('Количество точек: {}'.format(histogram['Количество точек'].sum()))"
   ]
  },
  {
   "cell_type": "markdown",
   "id": "a16e6918",
   "metadata": {},
   "source": [
    "Посчитаем относительные частоты:"
   ]
  },
  {
   "cell_type": "code",
   "execution_count": 15,
   "id": "5f95cbeb",
   "metadata": {},
   "outputs": [
    {
     "data": {
      "text/html": [
       "<div>\n",
       "<style scoped>\n",
       "    .dataframe tbody tr th:only-of-type {\n",
       "        vertical-align: middle;\n",
       "    }\n",
       "\n",
       "    .dataframe tbody tr th {\n",
       "        vertical-align: top;\n",
       "    }\n",
       "\n",
       "    .dataframe thead th {\n",
       "        text-align: right;\n",
       "    }\n",
       "</style>\n",
       "<table border=\"1\" class=\"dataframe\">\n",
       "  <thead>\n",
       "    <tr style=\"text-align: right;\">\n",
       "      <th></th>\n",
       "      <th>Интервалы</th>\n",
       "      <th>Середины интервалов</th>\n",
       "      <th>Количество точек</th>\n",
       "      <th>Относительная частота</th>\n",
       "    </tr>\n",
       "  </thead>\n",
       "  <tbody>\n",
       "    <tr>\n",
       "      <th>0</th>\n",
       "      <td>[-12.953, -10.655)</td>\n",
       "      <td>-11.804</td>\n",
       "      <td>3</td>\n",
       "      <td>0.0375</td>\n",
       "    </tr>\n",
       "    <tr>\n",
       "      <th>1</th>\n",
       "      <td>[-10.655, -8.357)</td>\n",
       "      <td>-9.506</td>\n",
       "      <td>2</td>\n",
       "      <td>0.0250</td>\n",
       "    </tr>\n",
       "    <tr>\n",
       "      <th>2</th>\n",
       "      <td>[-8.357, -6.059)</td>\n",
       "      <td>-7.208</td>\n",
       "      <td>18</td>\n",
       "      <td>0.2250</td>\n",
       "    </tr>\n",
       "    <tr>\n",
       "      <th>3</th>\n",
       "      <td>[-6.059, -3.761)</td>\n",
       "      <td>-4.910</td>\n",
       "      <td>26</td>\n",
       "      <td>0.3250</td>\n",
       "    </tr>\n",
       "    <tr>\n",
       "      <th>4</th>\n",
       "      <td>[-3.761, -1.463)</td>\n",
       "      <td>-2.612</td>\n",
       "      <td>23</td>\n",
       "      <td>0.2875</td>\n",
       "    </tr>\n",
       "    <tr>\n",
       "      <th>5</th>\n",
       "      <td>[-1.463, 0.835)</td>\n",
       "      <td>-0.314</td>\n",
       "      <td>5</td>\n",
       "      <td>0.0625</td>\n",
       "    </tr>\n",
       "    <tr>\n",
       "      <th>6</th>\n",
       "      <td>[0.835, 3.133]</td>\n",
       "      <td>1.984</td>\n",
       "      <td>3</td>\n",
       "      <td>0.0375</td>\n",
       "    </tr>\n",
       "  </tbody>\n",
       "</table>\n",
       "</div>"
      ],
      "text/plain": [
       "            Интервалы  Середины интервалов  Количество точек  Относительная частота\n",
       "0  [-12.953, -10.655)              -11.804                 3                 0.0375\n",
       "1   [-10.655, -8.357)               -9.506                 2                 0.0250\n",
       "2    [-8.357, -6.059)               -7.208                18                 0.2250\n",
       "3    [-6.059, -3.761)               -4.910                26                 0.3250\n",
       "4    [-3.761, -1.463)               -2.612                23                 0.2875\n",
       "5     [-1.463, 0.835)               -0.314                 5                 0.0625\n",
       "6      [0.835, 3.133]                1.984                 3                 0.0375"
      ]
     },
     "execution_count": 15,
     "metadata": {},
     "output_type": "execute_result"
    }
   ],
   "source": [
    "histogram['Относительная частота'] = histogram['Количество точек'] / n\n",
    "histogram"
   ]
  },
  {
   "cell_type": "markdown",
   "id": "07b7c19e",
   "metadata": {},
   "source": [
    "#### 0.4.4 Построение гистограммы относительных частот"
   ]
  },
  {
   "cell_type": "code",
   "execution_count": 16,
   "id": "3d3a47b9",
   "metadata": {},
   "outputs": [
    {
     "data": {
      "image/png": "[encoded data removed]",
      "text/plain": [
       "<Figure size 1000x600 with 1 Axes>"
      ]
     },
     "metadata": {},
     "output_type": "display_data"
    }
   ],
   "source": [
    "import seaborn as sns\n",
    "sns.set_theme()\n",
    "plt.figure(figsize=(10,6))\n",
    "x = histogram['Середины интервалов']\n",
    "y = [i / h for i in histogram['Относительная частота']]\n",
    "plt.bar(x, y, width=h)\n",
    "plt.show()"
   ]
  },
  {
   "cell_type": "markdown",
   "id": "0cb728bf",
   "metadata": {},
   "source": [
    "#### 0.4.5 Выборочные характеристики"
   ]
  },
  {
   "cell_type": "markdown",
   "id": "f5d98bfc",
   "metadata": {},
   "source": [
    "Выборочное среднее"
   ]
  },
  {
   "cell_type": "code",
   "execution_count": 17,
   "id": "d4e9ffd1",
   "metadata": {},
   "outputs": [
    {
     "data": {
      "text/markdown": [
       "Выборочное среднее <ins>X</ins> = -4.428"
      ],
      "text/plain": [
       "<IPython.core.display.Markdown object>"
      ]
     },
     "execution_count": 17,
     "metadata": {},
     "output_type": "execute_result"
    }
   ],
   "source": [
    "x_mean = 0\n",
    "for i in range(df.shape[0]):\n",
    "    for j in range(df.shape[1]):\n",
    "        value = float(df.at[i, j])\n",
    "        x_mean += value\n",
    "        \n",
    "x_mean /= n\n",
    "md('Выборочное среднее <ins>X</ins> = {}'.format(round(x_mean, 3)))"
   ]
  },
  {
   "cell_type": "markdown",
   "id": "be397443",
   "metadata": {},
   "source": [
    "Выборочная дисперсия"
   ]
  },
  {
   "cell_type": "code",
   "execution_count": 18,
   "id": "f0a0c2c3",
   "metadata": {},
   "outputs": [
    {
     "data": {
      "text/markdown": [
       "Выборочная дисперсия $S^2$ = 8.533"
      ],
      "text/plain": [
       "<IPython.core.display.Markdown object>"
      ]
     },
     "execution_count": 18,
     "metadata": {},
     "output_type": "execute_result"
    }
   ],
   "source": [
    "s_2 = 0\n",
    "\n",
    "for i in range(df.shape[0]):\n",
    "    for j in range(df.shape[1]):\n",
    "        value = float(df.at[i, j])\n",
    "        s_2 += (value - x_mean) ** 2\n",
    "        \n",
    "s_2 /= (n - 1)\n",
    "md('Выборочная дисперсия $S^2$ = {}'.format(round(s_2, 3)))"
   ]
  },
  {
   "cell_type": "markdown",
   "id": "9461c373",
   "metadata": {},
   "source": [
    "### 0.5 Константы"
   ]
  },
  {
   "cell_type": "code",
   "execution_count": 19,
   "id": "600b1b81",
   "metadata": {},
   "outputs": [],
   "source": [
    "alpha = 0.04\n",
    "a_0 = -4\n",
    "sigma_0 = 2\n",
    "a_1 = -4.5\n",
    "sigma_1 = 2.7\n",
    "eps = 0.15\n",
    "n = 80"
   ]
  },
  {
   "cell_type": "markdown",
   "id": "c9f9ed0f",
   "metadata": {},
   "source": [
    "## \t1. Постройте критерий $S_2$ уровня α и проверьте гипотезу $H_0$: a=$-4$  против  односторонней альтернативы  $H_2$, если σ неизвестно"
   ]
  },
  {
   "cell_type": "markdown",
   "id": "993cc6d6",
   "metadata": {},
   "source": [
    "#### Построим критерий $S_2$ уровня a и проверим гипотезу $H_0:$ a = -4 против левосторонней альтернативы $H_2: a < -4$ если σ неизвестно"
   ]
  },
  {
   "cell_type": "markdown",
   "id": "13c8743c",
   "metadata": {},
   "source": [
    "#### Критическое множество для среднего при альтернативе $H_2$:$a<a_0$ имеет вид:"
   ]
  },
  {
   "cell_type": "markdown",
   "id": "87cc9944",
   "metadata": {},
   "source": [
    "$$S_2 = \\{\\overline{x} < C_2\\}$$"
   ]
  },
  {
   "cell_type": "markdown",
   "id": "0ae4bc21",
   "metadata": {},
   "source": [
    "#### Рассмотрим статистику:"
   ]
  },
  {
   "cell_type": "markdown",
   "id": "b07f9203",
   "metadata": {},
   "source": [
    "$$\\frac{\\overline{x} - a_0}{\\sqrt{s^2}} \\sqrt{n} \\sim{} t(n - 1)$$"
   ]
  },
  {
   "cell_type": "markdown",
   "id": "2913a855",
   "metadata": {},
   "source": [
    "#### Тогда по определению ошибки 1 рода a = $P(S_2 | H_0)$:"
   ]
  },
  {
   "cell_type": "markdown",
   "id": "3a035e60",
   "metadata": {},
   "source": [
    "$$\\alpha = P(\\overline{x} < C_2 | a = a_0) = P\\left(\\frac{\\overline{x} - a_0}{\\sqrt{s^2}} \\sqrt{n} < \\frac{\\overline{C_2} - a_0}{\\sqrt{s^2}} \\sqrt{n}\\right) = F_{t(n-1)}\\left(\\frac{\\overline{C_2} - a_0}{\\sqrt{s^2}} \\sqrt{n}\\right) \\rightarrow \\frac{C_2 - a_0}{\\sqrt{s^2}} = t_{\\alpha}(n - 1)$$"
   ]
  },
  {
   "cell_type": "markdown",
   "id": "24f10c3c",
   "metadata": {},
   "source": [
    "#### Выразим $C_2:$"
   ]
  },
  {
   "cell_type": "code",
   "execution_count": 20,
   "id": "56bfdd78",
   "metadata": {},
   "outputs": [
    {
     "data": {
      "text/markdown": [
       "$$C_2 = a_0 + \\frac{t_{\\alpha}(n - 1)}{\\sqrt{n}} * s = -4.57922$$"
      ],
      "text/plain": [
       "<IPython.core.display.Markdown object>"
      ]
     },
     "execution_count": 20,
     "metadata": {},
     "output_type": "execute_result"
    }
   ],
   "source": [
    "from scipy.stats import t\n",
    "\n",
    "C_2 = a_0 + t.ppf(alpha, n - 1) * np.sqrt(s_2) / np.sqrt(n)\n",
    "md('$$C_2 = a_0 + \\\\frac{{t_{{\\\\alpha}}(n - 1)}}{{\\\\sqrt{{n}}}} * s = {}$$'.format(round(C_2, 5)))"
   ]
  },
  {
   "cell_type": "code",
   "execution_count": 21,
   "id": "bc95748d",
   "metadata": {},
   "outputs": [
    {
     "data": {
      "text/markdown": [
       "Следовательно, гипотеза $H_0:$a = -4 принимается, потому что $\\overline{x} = -4.42759$ не принадлежит\n",
       "   критическому множеству $S_2$ = {$\\overline{x} < -4.57922$}"
      ],
      "text/plain": [
       "<IPython.core.display.Markdown object>"
      ]
     },
     "execution_count": 21,
     "metadata": {},
     "output_type": "execute_result"
    }
   ],
   "source": [
    "md('''Следовательно, гипотеза $H_0:$a = -4 принимается, потому что $\\overline{{x}} = {}$ не принадлежит\n",
    "   критическому множеству $S_2$ = {{$\\overline{{x}} < {}$}}'''.format(round(x_mean, 5), round(C_2, 5)))"
   ]
  },
  {
   "cell_type": "markdown",
   "id": "34de6cef",
   "metadata": {},
   "source": [
    "## 2. Постройте критерий $S_3$ уровня α и проверьте гипотезу $H_01$: σ=$2$  против  альтернативы $H_3$, если a неизвестно"
   ]
  },
  {
   "cell_type": "markdown",
   "id": "8ff92068",
   "metadata": {},
   "source": [
    "#### Критическое множество для среднего квадратичного отклонения при альтернативе $H_3: \\sigma > 2$ имеет вид:"
   ]
  },
  {
   "cell_type": "markdown",
   "id": "742712d3",
   "metadata": {},
   "source": [
    "$$S_3 = \\{s^2 > C_3\\}$$"
   ]
  },
  {
   "cell_type": "markdown",
   "id": "b9e60f0d",
   "metadata": {},
   "source": [
    "#### Рассмотрим статистику:"
   ]
  },
  {
   "cell_type": "markdown",
   "id": "100a144b",
   "metadata": {},
   "source": [
    "$$\\frac{(n - 1) s^2}{\\sigma^2} \\sim \\chi^2(n - 1)$$"
   ]
  },
  {
   "cell_type": "markdown",
   "id": "c412286a",
   "metadata": {},
   "source": [
    "#### Тогда по определению ошибки 1 рода a = $P(S_3 | H_1)$:"
   ]
  },
  {
   "cell_type": "markdown",
   "id": "7ce40586",
   "metadata": {},
   "source": [
    "$$\\alpha = P (s^2 > C_3 | \\sigma = \\sigma_0) = P\\left(\\frac{(n - 1)s^2}{\\sigma_0^2} > \\frac{(n-1)C_3}{\\sigma_0^2}\\right)=1-\n",
    "\\chi^2_{(n-1)}\\left(\\frac{(n-1)s^2}{\\sigma_0^2}\\right) \\rightarrow \\frac{(n - 1)C_3}{\\sigma_0^2} = \\chi^2_{1-\\alpha} (n - 1)$$"
   ]
  },
  {
   "cell_type": "markdown",
   "id": "1a15942f",
   "metadata": {},
   "source": [
    "#### Выразим $C_3:$"
   ]
  },
  {
   "cell_type": "code",
   "execution_count": 22,
   "id": "57c21290",
   "metadata": {},
   "outputs": [
    {
     "data": {
      "text/markdown": [
       "$$C_3 = \\frac{\\sigma_0^2}{n - 1} * \\chi^2_{\\alpha}(n - 1) = 5.18074$$"
      ],
      "text/plain": [
       "<IPython.core.display.Markdown object>"
      ]
     },
     "execution_count": 22,
     "metadata": {},
     "output_type": "execute_result"
    }
   ],
   "source": [
    "from scipy.stats import chi2\n",
    "\n",
    "C_3 = sigma_0 ** 2 / (n - 1) * chi2.ppf(1-alpha, n - 1)\n",
    "md('$$C_3 = \\\\frac{{\\sigma_0^2}}{{n - 1}} * \\chi^2_{{\\\\alpha}}(n - 1) = {}$$'.format(round(C_3, 5)))"
   ]
  },
  {
   "cell_type": "code",
   "execution_count": 23,
   "id": "f1107325",
   "metadata": {},
   "outputs": [
    {
     "data": {
      "text/markdown": [
       "Следовательно, гипотеза $H_3:\\sigma = 2.7$ отклоняется, потому что $s^2 = 8.53317$ принадлежит\n",
       "   критическому множеству $S_3$ = {$s^2 > 5.18074$}"
      ],
      "text/plain": [
       "<IPython.core.display.Markdown object>"
      ]
     },
     "execution_count": 23,
     "metadata": {},
     "output_type": "execute_result"
    }
   ],
   "source": [
    "md('''Следовательно, гипотеза $H_3:\\sigma = 2.7$ отклоняется, потому что $s^2 = {}$ принадлежит\n",
    "   критическому множеству $S_3$ = {{$s^2 > {}$}}'''.format(round(s_2, 5), round(C_3, 5)))"
   ]
  },
  {
   "cell_type": "markdown",
   "id": "4f644810",
   "metadata": {},
   "source": [
    "## 3. Постройте оптимальный критерий $S_1$ уровня α и проверьте $H_0$ против простой альтернативы $H_1$:a=$-4.5$, если σ=$2.7$ известно"
   ]
  },
  {
   "cell_type": "markdown",
   "id": "214dcd1c",
   "metadata": {},
   "source": [
    "#### Воспользуемся критерием Неймана - Пирсона:"
   ]
  },
  {
   "cell_type": "markdown",
   "id": "212d8d95",
   "metadata": {},
   "source": [
    "$$S_1 = \\left\\{\\frac{L(X_1 ... X_n, a_1)}{L(X_1 ... X_n, a_0)} > C_4\\right\\}$$"
   ]
  },
  {
   "cell_type": "markdown",
   "id": "dfbc3b45",
   "metadata": {},
   "source": [
    "$$L(X_1 ... X_n, a) = \\prod\\limits_{k = 1}\\limits^{n} \\frac{1}{\\sqrt{2 \\pi} \\sigma_1} e^{\\frac{-(X_k-a)^2}{2\\sigma_1^2}}$$"
   ]
  },
  {
   "cell_type": "markdown",
   "id": "3d36ec63",
   "metadata": {},
   "source": [
    "$$\\frac{L(X_1 ... X_n, a_1)}{L(X_1 ... X_n, a_0)} = e ^ {\\left(\\sum\\limits_{k = 1}\\limits^{n} \\frac{-(X_k-a_1)^2}{2\\sigma_1^2} \\right)+ \\left(\\sum\\limits_{k = 1}\\limits^{n} \\frac{-(X_k-a_0)^2}{2\\sigma_1^2}\\right)} = e ^ {\\frac{1}{2 \\sigma_1^2} (\\sum\\limits_{k = 1}\\limits^{n} 2X_k a_1 - \\sum\\limits_{k = 1}\\limits^{n} 2X_k a_0 - na_1^2 + na_0^2)} > C_4$$"
   ]
  },
  {
   "cell_type": "markdown",
   "id": "e9e435ef",
   "metadata": {},
   "source": [
    "#### Получаем, что:"
   ]
  },
  {
   "cell_type": "markdown",
   "id": "bd6bb864",
   "metadata": {},
   "source": [
    "$$\\sum\\limits_{k = 1}\\limits^{n} 2X_k a_1 - \\sum\\limits_{k = 1}\\limits^{n} 2X_k a_0 - na_1^2 + na_0^2 > 2ln(C_4)\\sigma_1^2 $$"
   ]
  },
  {
   "cell_type": "markdown",
   "id": "772406cb",
   "metadata": {},
   "source": [
    "$$2(a_1 - a_0) \\sum\\limits_{k = 1}\\limits^{n} X_k > 2ln(C_4)\\sigma_1^2 + na_1^2 - na_0^2$$"
   ]
  },
  {
   "cell_type": "markdown",
   "id": "6df613f7",
   "metadata": {},
   "source": [
    "$$\\sum\\limits_{k = 1}\\limits^{n} X_k > \\frac{ln(C_4)\\sigma_1^2}{a_1 - a_0} + \\frac{n(a_1 + a_0)}{2}$$"
   ]
  },
  {
   "cell_type": "markdown",
   "id": "24edc122",
   "metadata": {},
   "source": [
    "$$\\overline{x} > \\frac{ln(C_4)\\sigma_1^2}{n(a_1 - a_0)} + \\frac{(a_1 + a_0)}{2} = C_5$$"
   ]
  },
  {
   "cell_type": "markdown",
   "id": "c326e778",
   "metadata": {},
   "source": [
    "#### Таким образом получим критическое множество:"
   ]
  },
  {
   "cell_type": "markdown",
   "id": "1f304e3e",
   "metadata": {},
   "source": [
    " $$S_1=\\{\\overline{x} > C_5\\}$$"
   ]
  },
  {
   "cell_type": "markdown",
   "id": "c220ffce",
   "metadata": {},
   "source": [
    "#### Рассмотрим статистику:"
   ]
  },
  {
   "cell_type": "markdown",
   "id": "0737bc04",
   "metadata": {},
   "source": [
    "$$\\frac{\\overline{x} - a_0}{\\sigma_1} \\sqrt{n} \\sim{} N(0, 1)$$"
   ]
  },
  {
   "cell_type": "markdown",
   "id": "4f4aa5fa",
   "metadata": {},
   "source": [
    "#### Тогда по определению ошибки 1 рода a = $P(S_1 | H_0)$:"
   ]
  },
  {
   "cell_type": "markdown",
   "id": "fc485805",
   "metadata": {},
   "source": [
    "$$\\alpha = P(\\overline{x} < C_5 | a = a_0) = P \\left(\\frac{\\overline{x} - a_0}{\\sigma_1} \\sqrt{n} < \\frac{C_5 - a_0}{\\sigma_1} \\sqrt{n} \\right) = Ф\\left(\\frac{C_5 - a_0}{\\sigma_1} \\sqrt{n}\\right) \\rightarrow \\frac{C_5 - a_0}{\\sigma_1} \\sqrt{n} = u_{\\alpha}$$"
   ]
  },
  {
   "cell_type": "markdown",
   "id": "723b1085",
   "metadata": {},
   "source": [
    "#### Выразим $C_5$:"
   ]
  },
  {
   "cell_type": "code",
   "execution_count": 24,
   "id": "1c3bd076",
   "metadata": {},
   "outputs": [
    {
     "data": {
      "text/markdown": [
       "$$C_5 = a_0 + \\frac{u_{1 - \\alpha}}{\\sqrt{n}} \\sigma_1 = -4.52848$$"
      ],
      "text/plain": [
       "<IPython.core.display.Markdown object>"
      ]
     },
     "execution_count": 24,
     "metadata": {},
     "output_type": "execute_result"
    }
   ],
   "source": [
    "from scipy.stats import norm\n",
    "\n",
    "C_5 = a_0 + norm.ppf(alpha) * sigma_1 / np.sqrt(n)\n",
    "md('$$C_5 = a_0 + \\\\frac{{u_{{1 - \\\\alpha}}}}{{\\\\sqrt{{n}}}} \\sigma_1 = {}$$'.format(round(C_5, 5)))"
   ]
  },
  {
   "cell_type": "code",
   "execution_count": 25,
   "id": "f366dec4",
   "metadata": {},
   "outputs": [
    {
     "data": {
      "text/markdown": [
       "Следовательно, гипотеза $H_0:a = -4$ принимается, потому что $\\overline{x} = -4.42759$ не принадлежит\n",
       "   критическому множеству $S_1$ = {$\\overline{x} > -4.52848$}"
      ],
      "text/plain": [
       "<IPython.core.display.Markdown object>"
      ]
     },
     "execution_count": 25,
     "metadata": {},
     "output_type": "execute_result"
    }
   ],
   "source": [
    "md('''Следовательно, гипотеза $H_0:a = -4$ принимается, потому что $\\overline{{x}} = {}$ не принадлежит\n",
    "   критическому множеству $S_1$ = {{$\\overline{{x}} > {}$}}'''.format(round(x_mean, 5), round(C_5, 5)))"
   ]
  },
  {
   "cell_type": "markdown",
   "id": "1f5a6d79",
   "metadata": {},
   "source": [
    "## \t4. Найдите ошибку второго рода  $β=P(\\overline{S_1}│H_1 )$ критерия $S_1$"
   ]
  },
  {
   "cell_type": "markdown",
   "id": "86bc9aa3",
   "metadata": {},
   "source": [
    "#### Найдём ошибку второго рода $\\beta = P(\\overline{S_1} | H_1)$ критерия $S_1 = \\{\\overline{x} < -4.579\\}$. Согласно определению ошибки второго рода:"
   ]
  },
  {
   "cell_type": "code",
   "execution_count": 26,
   "id": "7122d2c3",
   "metadata": {},
   "outputs": [
    {
     "data": {
      "text/plain": [
       "0.5375802320469667"
      ]
     },
     "execution_count": 26,
     "metadata": {},
     "output_type": "execute_result"
    }
   ],
   "source": [
    "from scipy.stats import norm\n",
    "\n",
    "res = 1 - norm.cdf((C_5 - a_1) / sigma_1 * np.sqrt(n))\n",
    "res"
   ]
  },
  {
   "cell_type": "code",
   "execution_count": 27,
   "id": "55ee8aa8",
   "metadata": {},
   "outputs": [
    {
     "data": {
      "text/markdown": [
       "$\\beta = P(\\overline{x} > C_5 | a = a_1)\n",
       "= P \\left(\\frac{\\overline{x} - a_1}\n",
       "{\\sigma_1} \\sqrt{n} > \\frac{C_5 - a_1}{\\sigma_1} \\sqrt{n} \\right) = 1 - Ф\\left(\\frac{C_5 - a_1}{\\sigma_1} \n",
       "\\sqrt{n}\\right)$ = 0.53758"
      ],
      "text/plain": [
       "<IPython.core.display.Markdown object>"
      ]
     },
     "execution_count": 27,
     "metadata": {},
     "output_type": "execute_result"
    }
   ],
   "source": [
    "md('''$\\\\beta = P(\\\\overline{{x}} > C_5 | a = a_1)\n",
    "= P \\\\left(\\\\frac{{\\\\overline{{x}} - a_1}}\n",
    "{{\\\\sigma_1}} \\\\sqrt{{n}} > \\\\frac{{C_5 - a_1}}{{\\\\sigma_1}} \\\\sqrt{{n}} \\\\right) = 1 - Ф\\\\left(\\\\frac{{C_5 - a_1}}{{\\\\sigma_1}} \n",
    "\\\\sqrt{{n}}\\\\right)$ = {}'''.format(round(res, 5)))"
   ]
  },
  {
   "cell_type": "markdown",
   "id": "ebc0ab32",
   "metadata": {},
   "source": [
    "## 5. Найдите такие значения $a_1$, для которых ошибка второго рода критерия $S_1$ не превосходит ε"
   ]
  },
  {
   "cell_type": "markdown",
   "id": "e542b298",
   "metadata": {},
   "source": [
    "#### Оптимальное значение $a_1$, при котором ошибка второго рода не превышает $\\varepsilon$, можно вычислить по формуле:"
   ]
  },
  {
   "cell_type": "markdown",
   "id": "4c44ce28",
   "metadata": {},
   "source": [
    "$$\\beta = P(x_{mean} > C_5)| a = a_1') = P(\\frac{x_{mean} - a_1'}{\\sigma_1}\\sqrt{n} > \\frac{C_5-a_1'}{\\sigma_1}\\sqrt{n}) =1 - \\Phi(\\frac{C_5-a_1'}{\\sigma_1}\\sqrt{n}) = \\epsilon$$"
   ]
  },
  {
   "cell_type": "markdown",
   "id": "48ee2355",
   "metadata": {},
   "source": [
    "$$\\frac{C_5-a_1'}{\\sigma_1}\\sqrt{n} = u_{1 - \\epsilon}$$"
   ]
  },
  {
   "cell_type": "code",
   "execution_count": 31,
   "id": "e0e1f091",
   "metadata": {},
   "outputs": [
    {
     "data": {
      "text/markdown": [
       "$a_1$ = $C_5 - \\frac{u_{\\varepsilon}}{\\sqrt{n}}*\\sigma_1$ = -4.84135"
      ],
      "text/plain": [
       "<IPython.core.display.Markdown object>"
      ]
     },
     "execution_count": 31,
     "metadata": {},
     "output_type": "execute_result"
    }
   ],
   "source": [
    "from scipy.stats import norm\n",
    "\n",
    "res = C_5 - norm.ppf(1 - eps) / np.sqrt(n) * sigma_1\n",
    "\n",
    "md('$a_1$ = $C_5 - \\\\frac{{u_{{\\\\varepsilon}}}}{{\\\\sqrt{{n}}}}*\\sigma_1$ = {}'.format(round(res, 5)))"
   ]
  },
  {
   "cell_type": "markdown",
   "id": "5afbde85",
   "metadata": {},
   "source": [
    "## 6. Постройте совмещенные графики гистограммы относительных частот данной выборки и плотностей нормального распределения с параметрами $(a_0,σ_1 )$ и $(a_1,σ_1 )$. "
   ]
  },
  {
   "cell_type": "markdown",
   "id": "91573de2",
   "metadata": {},
   "source": [
    "#### Совмещённые графики:"
   ]
  },
  {
   "cell_type": "code",
   "execution_count": 29,
   "id": "ca048fd2",
   "metadata": {
    "scrolled": false
   },
   "outputs": [
    {
     "data": {
      "image/png": "[encoded data removed]",
      "text/plain": [
       "<Figure size 1000x600 with 1 Axes>"
      ]
     },
     "metadata": {},
     "output_type": "display_data"
    }
   ],
   "source": [
    "\n",
    "import seaborn as sns\n",
    "sns.set_theme()\n",
    "plt.figure(figsize=(10,6))\n",
    "x = histogram['Середины интервалов']\n",
    "y = [i / h for i in histogram['Относительная частота']]\n",
    "plt.bar(x, y, width=h)\n",
    "\n",
    "x_arr = np.arange(-20, 20, 0.0001)\n",
    "plt.plot(x_arr, norm.pdf(x_arr, a_0, sigma_1), label='F(a0, sigma1^2)')\n",
    "plt.plot(x_arr, norm.pdf(x_arr, a_1, sigma_1), label='F(a1, sigma1^2)', linestyle = 'dotted')\n",
    "plt.legend()\n",
    "plt.show()"
   ]
  },
  {
   "cell_type": "markdown",
   "id": "2d4fa36a",
   "metadata": {},
   "source": [
    "## 7. Выводы"
   ]
  },
  {
   "cell_type": "markdown",
   "id": "b2bbaf89",
   "metadata": {},
   "source": [
    "#### В процессе выполнения задания мы освоили этапы первоначальной обработки статистических данных и изучили основные понятия, связанные с этой темой. \n",
    "\n",
    "#### Мы научились по заданной выборке составлять интервальный вариационный ряд, который является результатом группировки данных, а также вычислять выборочное среднее и среднее квадратичное отклонение выборки. На следующем этапе был разобран способ построения гистограммы относительных частот. \n",
    "\n",
    "#### Затем, были посчитаны критические множества для среднего и среднего квадратичного отклонения, а также проверены 3 гипотезы с разными альтернативами. Была найдена ошибка второго рода для критерия $S_1$ и такое значение параметра $a$, при котором ошибка второго рода критерия $S_1$ не превосходит $ε$. \n",
    "\n",
    "#### Также были построены совмещенные графики гистограммы относительных частот x и плотностей нормального распределения $N(a_0,σ_1 )$ и $N(a_1,σ_1 )$. По графику видно, что кривая плотности нормального закона для альтернативы H_1:a=-4.5 лучше ложится на гистограмму, чем в случае основной гипотезы H_0:a=-4, что можно объяснить высокой вероятностью ошибки второго рода."
   ]
  }
 ],
 "metadata": {
  "kernelspec": {
   "display_name": "Python 3 (ipykernel)",
   "language": "python",
   "name": "python3"
  },
  "language_info": {
   "codemirror_mode": {
    "name": "ipython",
    "version": 3
   },
   "file_extension": ".py",
   "mimetype": "text/x-python",
   "name": "python",
   "nbconvert_exporter": "python",
   "pygments_lexer": "ipython3",
   "version": "3.9.13"
  }
 },
 "nbformat": 4,
 "nbformat_minor": 5
}
