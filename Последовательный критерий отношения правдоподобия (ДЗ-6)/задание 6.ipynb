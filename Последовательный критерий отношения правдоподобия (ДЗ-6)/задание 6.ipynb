{
 "cells": [
  {
   "cell_type": "markdown",
   "id": "51594fff",
   "metadata": {},
   "source": [
    "# Последовательный критерий отношения правдоподобия"
   ]
  },
  {
   "cell_type": "markdown",
   "id": "6c7a0d96",
   "metadata": {},
   "source": [
    "## 0. Подготовка"
   ]
  },
  {
   "cell_type": "markdown",
   "id": "bffe6478",
   "metadata": {},
   "source": [
    "### 0.1 Импорт нужных библиотек"
   ]
  },
  {
   "cell_type": "code",
   "execution_count": 1,
   "id": "45689fc0",
   "metadata": {},
   "outputs": [],
   "source": [
    "import numpy as np\n",
    "import pandas as pd\n",
    "import matplotlib.pyplot as plt\n",
    "from IPython.display import Markdown as md\n",
    "import math"
   ]
  },
  {
   "cell_type": "markdown",
   "id": "a48bd0bf",
   "metadata": {},
   "source": [
    "### 0.2 Импорт выборки"
   ]
  },
  {
   "cell_type": "code",
   "execution_count": 2,
   "id": "cb69e3fd",
   "metadata": {},
   "outputs": [
    {
     "name": "stdout",
     "output_type": "stream",
     "text": [
      "        0      1       2      3      4      5      6      7      8      9\n",
      "0 -12.953 -6.924  -3.899 -5.577 -1.907 -7.126 -2.946 -5.936 -8.230 -7.434\n",
      "1   1.866 -7.803 -11.133 -4.278 -3.778 -7.213 -4.846 -8.924 -2.306 -4.360\n",
      "2  -1.266  0.274  -4.223 -4.767 -1.447 -2.341  3.133 -3.707 -6.248 -1.714\n",
      "3  -5.386 -3.212 -11.145 -6.166 -3.878 -1.743 -4.606 -2.666 -4.795 -2.660\n",
      "4  -3.798 -2.742  -3.989 -7.383 -5.028 -4.380 -2.598 -7.183 -4.557 -3.034\n",
      "5  -7.432 -7.505  -3.089 -5.018  0.633 -7.363 -1.919 -6.944 -1.967 -7.336\n",
      "6  -2.767 -6.135  -3.173 -2.852 -7.748 -1.776 -4.381 -5.021  0.088 -4.151\n",
      "7  -4.699 -1.634  -4.809  1.433 -2.706 -6.897 -1.722 -4.494 -9.873 -3.988\n"
     ]
    }
   ],
   "source": [
    "df = pd.read_csv ('lab5_data.csv', sep=';', header=None, decimal=\",\")\n",
    "df = df.astype('float')\n",
    "pd.set_option('display.expand_frame_repr', False)\n",
    "\n",
    "heading_properties = [('font-size', '18px')]\n",
    "cell_properties = [('font-size', '14px')]\n",
    "\n",
    "dfstyle = [dict(selector=\"th\", props=heading_properties), dict(selector=\"td\", props=cell_properties)]\n",
    "\n",
    "df.style.set_table_styles(dfstyle)\n",
    "\n",
    "print(df)"
   ]
  },
  {
   "cell_type": "code",
   "execution_count": 3,
   "id": "af69d5ad",
   "metadata": {},
   "outputs": [],
   "source": [
    "alpha = 0.04\n",
    "a_0 = -4\n",
    "sigma_0 = 2\n",
    "a_1 = -4.5\n",
    "sigma_1 = 2.7\n",
    "eps = 0.15\n",
    "n = 80"
   ]
  },
  {
   "cell_type": "markdown",
   "id": "232cebe9",
   "metadata": {},
   "source": [
    "## 1. \tПостройте последовательный критерий Вальда для проверки гипотезы $H_0$: a=$-4$  против альтернативы $H_1$:a=-4.5 при известном σ=$2.7$. Ошибка первого рода задана в условии, ошибка второго рода β вычислена вами в пункте 4."
   ]
  },
  {
   "cell_type": "markdown",
   "id": "1eb82cbc",
   "metadata": {},
   "source": [
    "#### Найдем такие границы A и B, которые удовлетворяют следующему условию:"
   ]
  },
  {
   "cell_type": "markdown",
   "id": "888137cc",
   "metadata": {},
   "source": [
    "$$B < z(X_1 ... X_n) = \\frac{L(X_1 ... X_n, \\alpha_1)}{L(X_1 ... X_n, \\alpha_0)} < A$$"
   ]
  },
  {
   "cell_type": "markdown",
   "id": "871b916f",
   "metadata": {},
   "source": [
    "#### Положим:"
   ]
  },
  {
   "cell_type": "markdown",
   "id": "542cbda5",
   "metadata": {},
   "source": [
    "$$\\nu = min\\{n: z(X_1 ... X_n) \\not\\in (B, A)\\}$$"
   ]
  },
  {
   "cell_type": "markdown",
   "id": "4a6eb9c7",
   "metadata": {},
   "source": [
    "#### То есть статистикой критерия будет $z(\\nu, X_1 ... X_n)$."
   ]
  },
  {
   "cell_type": "markdown",
   "id": "32fabca9",
   "metadata": {},
   "source": [
    "#### Критерий Вальда: если $z(X_1 ... X_n)\\geq$ A, то принимается $H_1$, если $z(X_1 ... X_n) \\leq B$, то принимается $H_0$. Тогда ошибка первого рода принимает вид:"
   ]
  },
  {
   "cell_type": "code",
   "execution_count": 4,
   "id": "5521d077",
   "metadata": {},
   "outputs": [
    {
     "data": {
      "text/markdown": [
       "$$0.04 = P(z(X_1 ... X_\\nu) \\geq A | H_0)$$"
      ],
      "text/plain": [
       "<IPython.core.display.Markdown object>"
      ]
     },
     "execution_count": 4,
     "metadata": {},
     "output_type": "execute_result"
    }
   ],
   "source": [
    "md(f'$${alpha} = P(z(X_1 ... X_\\\\nu) \\\\geq A | H_0)$$')"
   ]
  },
  {
   "cell_type": "markdown",
   "id": "ca9e107f",
   "metadata": {},
   "source": [
    "#### А ошибка второго рода:"
   ]
  },
  {
   "cell_type": "code",
   "execution_count": 5,
   "id": "c1020b28",
   "metadata": {},
   "outputs": [],
   "source": [
    "beta = 0.53758 # Мы определили в прошлом задании"
   ]
  },
  {
   "cell_type": "code",
   "execution_count": 6,
   "id": "9ec023f1",
   "metadata": {
    "scrolled": true
   },
   "outputs": [
    {
     "data": {
      "text/markdown": [
       "$$0.53758 = P(z(X_1 ... X_\\nu) \\leq B | H_0)$$"
      ],
      "text/plain": [
       "<IPython.core.display.Markdown object>"
      ]
     },
     "execution_count": 6,
     "metadata": {},
     "output_type": "execute_result"
    }
   ],
   "source": [
    "md(f'$${beta} = P(z(X_1 ... X_\\\\nu) \\\\leq B | H_0)$$')"
   ]
  },
  {
   "cell_type": "markdown",
   "id": "365411c0",
   "metadata": {},
   "source": [
    "#### Постоянные A и B вычислим по формулам Вальда: "
   ]
  },
  {
   "cell_type": "code",
   "execution_count": 7,
   "id": "d6f61e15",
   "metadata": {},
   "outputs": [
    {
     "data": {
      "text/markdown": [
       "$$A = \\frac {1 - \\beta} {\\alpha} = 11.560500000000001$$"
      ],
      "text/plain": [
       "<IPython.core.display.Markdown object>"
      ]
     },
     "execution_count": 7,
     "metadata": {},
     "output_type": "execute_result"
    }
   ],
   "source": [
    "A = (1 - beta) / alpha\n",
    "md(f'$$A = \\\\frac {{1 - \\\\beta}} {{\\\\alpha}} = {A}$$')"
   ]
  },
  {
   "cell_type": "code",
   "execution_count": 8,
   "id": "6bbd5157",
   "metadata": {},
   "outputs": [
    {
     "data": {
      "text/markdown": [
       "$$B = \\frac {\\beta} {1 - \\alpha} = 0.559979$$"
      ],
      "text/plain": [
       "<IPython.core.display.Markdown object>"
      ]
     },
     "execution_count": 8,
     "metadata": {},
     "output_type": "execute_result"
    }
   ],
   "source": [
    "B = round((beta) / (1 - alpha), 6)\n",
    "md(f'$$B = \\\\frac {{\\\\beta}} {{1 - \\\\alpha}} = {B}$$')"
   ]
  },
  {
   "cell_type": "markdown",
   "id": "a4c224eb",
   "metadata": {},
   "source": [
    "#### Отношение правдоподобия можно вычислить следующим образом:"
   ]
  },
  {
   "cell_type": "markdown",
   "id": "ea965340",
   "metadata": {},
   "source": [
    "$$\\frac {L(X_1 ... X_n, \\alpha_1, \\sigma_1)}{L(X_1 ... X_n, \\alpha_0, \\sigma_1)} = \\prod_1^n \\frac{p(X_1 ... X_n, \\alpha_1, \\sigma_1)}{p(X_1 ... X_n, \\alpha_0, \\sigma_1)} = exp \\left( \\sum_{k=1}^n \\frac{(X_k - \\alpha_0)^2}{2\\sigma_1^2} - \\sum_{k=1}^n \\frac{(X_k - \\alpha_1)^2}{2\\sigma_1^2}\\right) = exp \\left(n \\frac{\\alpha_0^2 - \\alpha_1^2}{2\\sigma_1^2} + \\frac{\\alpha_1 - \\alpha_0}{\\sigma_1^2} \\sum_{k=1}^n X_k\\right)$$"
   ]
  },
  {
   "cell_type": "markdown",
   "id": "c49d2238",
   "metadata": {},
   "source": [
    "## 2. Применим построенный критерий:"
   ]
  },
  {
   "cell_type": "markdown",
   "id": "988734fb",
   "metadata": {},
   "source": [
    "$$Z(j) = \\prod_{k=1}^{j} exp \\left(\\frac{\\alpha_0^2 - \\alpha_1^2}{2\\sigma_1^2} + \\frac{\\alpha_1 - \\alpha_0}{\\sigma_1^2} X_k \\right)$$"
   ]
  },
  {
   "cell_type": "code",
   "execution_count": 9,
   "id": "e43455f8",
   "metadata": {},
   "outputs": [
    {
     "data": {
      "text/markdown": [
       "$$Z(j) = \\prod_{k=1}^{j} exp \\left(\\frac{-4.25}{14.58}\n",
       "+ \\frac{-0.5}{7.29} X_k \\right) = exp \\left(j \\frac{-4.25}\n",
       "{14.58}\n",
       "+ \\frac{-0.5}{7.29} \\sum_{k=1}^j X_k \\right)$$"
      ],
      "text/plain": [
       "<IPython.core.display.Markdown object>"
      ]
     },
     "execution_count": 9,
     "metadata": {},
     "output_type": "execute_result"
    }
   ],
   "source": [
    "md(f'''$$Z(j) = \\prod_{{k=1}}^{{j}} exp \\\\left(\\\\frac{{{a_0 * a_0 - a_1 * a_1}}}{{{round(2 * sigma_1 ** 2, 5)}}}\n",
    "+ \\\\frac{{{a_1 - a_0}}}{{{round(sigma_1 ** 2, 5)}}} X_k \\\\right) = exp \\\\left(j \\\\frac{{{a_0 ** 2 - a_1 **2}}}\n",
    "{{{round(2 * sigma_1 ** 2, 5)}}}\n",
    "+ \\\\frac{{{a_1 - a_0}}}{{{round(sigma_1 ** 2, 5)}}} \\\\sum_{{k=1}}^j X_k \\\\right)$$''')"
   ]
  },
  {
   "cell_type": "markdown",
   "id": "059ff34a",
   "metadata": {},
   "source": [
    "#### Приведем графическую иллюстрацию последовательного критерия:"
   ]
  },
  {
   "cell_type": "code",
   "execution_count": 10,
   "id": "03471617",
   "metadata": {},
   "outputs": [
    {
     "data": {
      "image/png": "[encoded data removed]",
      "text/plain": [
       "<Figure size 640x480 with 1 Axes>"
      ]
     },
     "metadata": {},
     "output_type": "display_data"
    }
   ],
   "source": [
    "X_k = df.values.flatten()\n",
    "\n",
    "def Z(j): # определение функции Z(j)\n",
    "    return np.exp(j * (a_0 ** 2 - a_1 ** 2) / (2 * sigma_1 ** 2) + (a_1 - a_0) / (sigma_1 ** 2) * \n",
    "                  sum([X_k[i] for i in range(j)]))\n",
    "\n",
    "x = np.arange(0, n, 1)\n",
    "plt.plot(x, [Z(j) for j in x], label='Z(i)')\n",
    "plt.plot(x, [A for j in x], label='A')\n",
    "plt.plot(x, [B for j in x], label='B')\n",
    "\n",
    "plt.legend()\n",
    "plt.show()"
   ]
  },
  {
   "cell_type": "markdown",
   "id": "544f336d",
   "metadata": {},
   "source": [
    "## \t3. Вычислим математическое ожидание момента принятия решения при основной гипотезе $H_0$: a=$-4$ и при альтернативе $H_1$:a=$-4.5$."
   ]
  },
  {
   "cell_type": "code",
   "execution_count": 11,
   "id": "b81e6a7c",
   "metadata": {},
   "outputs": [
    {
     "data": {
      "text/markdown": [
       "$$M_0 = M_{\\alpha_0} ln \\left(\\frac{p(X_k, \\alpha_1, \\sigma_1)}{p(X_k, \\alpha_0, \\sigma_1)}\\right)\n",
       "   =   \\frac{\\alpha_1 - \\alpha_0}{2 \\sigma_1^2} \\left(2M_0X_k - (\\alpha_1 - \\alpha_0) \\right) = \n",
       "   \\frac{\\alpha_1 - \\alpha_0}{2 \\sigma_1^2} \\left(2\\alpha_0 - (\\alpha_1 - \\alpha_0) \\right) =\n",
       "   - \\frac{(\\alpha_1 - \\alpha_0)^2}{2 \\sigma_1^2} = - \\frac{(-4.5 - -4)^2}{2 * 2.7^2} = \n",
       "   {-0.01715}$$"
      ],
      "text/plain": [
       "<IPython.core.display.Markdown object>"
      ]
     },
     "execution_count": 11,
     "metadata": {},
     "output_type": "execute_result"
    }
   ],
   "source": [
    "M_0 = - (a_1 - a_0) ** 2 / (2 * sigma_1 ** 2)\n",
    "md(f'''$$M_0 = M_{{\\\\alpha_0}} ln \\\\left(\\\\frac{{p(X_k, \\\\alpha_1, \\\\sigma_1)}}{{p(X_k, \\\\alpha_0, \\\\sigma_1)}}\\\\right)\n",
    "   =   \\\\frac{{\\\\alpha_1 - \\\\alpha_0}}{{2 \\\\sigma_1^2}} \\\\left(2M_0X_k - (\\\\alpha_1 - \\\\alpha_0) \\\\right) = \n",
    "   \\\\frac{{\\\\alpha_1 - \\\\alpha_0}}{{2 \\\\sigma_1^2}} \\\\left(2\\\\alpha_0 - (\\\\alpha_1 - \\\\alpha_0) \\\\right) =\n",
    "   - \\\\frac{{(\\\\alpha_1 - \\\\alpha_0)^2}}{{2 \\\\sigma_1^2}} = - \\\\frac{{({a_1} - {a_0})^2}}{{2 * {sigma_1}^2}} = \n",
    "   {{{round(M_0, 5)}}}$$''')"
   ]
  },
  {
   "cell_type": "code",
   "execution_count": 12,
   "id": "143e3625",
   "metadata": {},
   "outputs": [
    {
     "data": {
      "text/markdown": [
       "$$M_{\\alpha_0 \\nu} = \\frac{\\alpha ln(A) + (1 - \\alpha) ln(B)}{M_0} =\n",
       "    \\frac{0.04 * ln(11.560500000000001) + 0.96 * ln(0.559979)}{-0.01715} = 26.75477$$"
      ],
      "text/plain": [
       "<IPython.core.display.Markdown object>"
      ]
     },
     "execution_count": 12,
     "metadata": {},
     "output_type": "execute_result"
    }
   ],
   "source": [
    "M_0nu = alpha * np.log(A) + (1 - alpha) * np.log(B)\n",
    "M_0nu /= M_0\n",
    "M_0nu = round(M_0nu, 5)\n",
    "\n",
    "md(f'''$$M_{{\\\\alpha_0 \\\\nu}} = \\\\frac{{\\\\alpha ln(A) + (1 - \\\\alpha) ln(B)}}{{M_0}} =\n",
    "    \\\\frac{{{alpha} * ln({A}) + {1 - alpha} * ln({B})}}{{{round(M_0, 5)}}} = {M_0nu}$$''')"
   ]
  },
  {
   "cell_type": "code",
   "execution_count": 13,
   "id": "6d025a3c",
   "metadata": {},
   "outputs": [
    {
     "data": {
      "text/markdown": [
       "$$M_1 = M_{\\alpha_1} ln \\left(\\frac{p(X_k, \\alpha_1, \\sigma_1)}{p(X_k, \\alpha_0, \\sigma_1)}\\right)\n",
       "   =   \\frac{\\alpha_1 - \\alpha_0}{2 \\sigma_1^2} \\left(2M_1X_k - (\\alpha_1 - \\alpha_0) \\right) = \n",
       "   \\frac{\\alpha_1 - \\alpha_0}{2 \\sigma_1^2} \\left(2\\alpha_1 - (\\alpha_1 - \\alpha_0) \\right) =\n",
       "\\frac{(\\alpha_1 - \\alpha_0)^2}{2 \\sigma_1^2} = \\frac{(-4.5 - -4)^2}{2 * 2.7^2} = \n",
       "   {0.01715}$$"
      ],
      "text/plain": [
       "<IPython.core.display.Markdown object>"
      ]
     },
     "execution_count": 13,
     "metadata": {},
     "output_type": "execute_result"
    }
   ],
   "source": [
    "M_1 = (a_1 - a_0) ** 2 / (2 * sigma_1 ** 2)\n",
    "md(f'''$$M_1 = M_{{\\\\alpha_1}} ln \\\\left(\\\\frac{{p(X_k, \\\\alpha_1, \\\\sigma_1)}}{{p(X_k, \\\\alpha_0, \\\\sigma_1)}}\\\\right)\n",
    "   =   \\\\frac{{\\\\alpha_1 - \\\\alpha_0}}{{2 \\\\sigma_1^2}} \\\\left(2M_1X_k - (\\\\alpha_1 - \\\\alpha_0) \\\\right) = \n",
    "   \\\\frac{{\\\\alpha_1 - \\\\alpha_0}}{{2 \\\\sigma_1^2}} \\\\left(2\\\\alpha_1 - (\\\\alpha_1 - \\\\alpha_0) \\\\right) =\n",
    "\\\\frac{{(\\\\alpha_1 - \\\\alpha_0)^2}}{{2 \\\\sigma_1^2}} = \\\\frac{{({a_1} - {a_0})^2}}{{2 * {sigma_1}^2}} = \n",
    "   {{{round(M_1, 5)}}}$$''')"
   ]
  },
  {
   "cell_type": "code",
   "execution_count": 14,
   "id": "139f1dd4",
   "metadata": {},
   "outputs": [
    {
     "data": {
      "text/markdown": [
       "$$M_{\\alpha_1 \\nu} = \\frac{\\beta ln(B) + (1 - \\beta) ln(A)}{M_1} =\n",
       "    \\frac{0.53758 * ln(0.559979) + 0.46242000000000005 * ln(11.560500000000001)}{0.01715} = 47.82809$$"
      ],
      "text/plain": [
       "<IPython.core.display.Markdown object>"
      ]
     },
     "execution_count": 14,
     "metadata": {},
     "output_type": "execute_result"
    }
   ],
   "source": [
    "M_1nu = beta * np.log(B) + (1 - beta) * np.log(A)\n",
    "M_1nu /= M_1\n",
    "M_1nu = round(M_1nu, 5)\n",
    "\n",
    "md(f'''$$M_{{\\\\alpha_1 \\\\nu}} = \\\\frac{{\\\\beta ln(B) + (1 - \\\\beta) ln(A)}}{{M_1}} =\n",
    "    \\\\frac{{{beta} * ln({B}) + {1 - beta} * ln({A})}}{{{round(M_1, 5)}}} = {M_1nu}$$''')"
   ]
  },
  {
   "cell_type": "markdown",
   "id": "562ebe93",
   "metadata": {},
   "source": [
    "## 4. Перепишем критическое множество из пункта 3 в виде $\\left( \\frac{L(X_1 ... X_n, \\alpha_1)}{L(X_1 ... X_n, \\alpha_0)} \\geq C\\right)$"
   ]
  },
  {
   "cell_type": "markdown",
   "id": "8d56aa27",
   "metadata": {},
   "source": [
    "$$S = \\left\\{ \\frac{L(X_1 ... X_n, \\alpha_1)}{L(X_1 ... X_n, \\alpha_0)} \\geq C\\right\\} = \\left\\{\\prod_{k=1}^{n} exp \\left( \\frac{\\alpha_0^2 - \\alpha_1^2}{2\\sigma_1^2} + \\frac{\\alpha_1 - \\alpha_0}{\\sigma_1^2} \\sum_{k=1}^n X_k\\right) \\geq C\\right\\} = \\left\\{ exp \\left(n \\frac{\\alpha_0^2 - \\alpha_1^2}{2\\sigma_1^2} + \\frac{\\alpha_1 - \\alpha_0}{\\sigma_1^2} \\sum_{k=1}^n X_k\\right) \\geq C\\right\\}$$"
   ]
  },
  {
   "cell_type": "markdown",
   "id": "024f42e8",
   "metadata": {},
   "source": [
    "$$S = \\left\\{\\frac{\\alpha_0^2 - \\alpha_1^2}{2\\sigma_1^2} + \\frac{\\alpha_1 - \\alpha_0}{\\sigma_1^2} \\sum_{k=1}^n X_k \\geq ln(C) \\right\\} = \\left\\{\\frac{\\sum_{k=1}^n X_k}{n} \\geq \\frac{\\sigma_1^2 \\left(\\frac{ln(C)}{n} - \\frac{\\alpha_0^2-\\alpha_1^2}{2\\sigma_1^2}\\right)}{\\alpha_1 - \\alpha_0} \\right\\}$$"
   ]
  },
  {
   "cell_type": "code",
   "execution_count": 15,
   "id": "db16bf40",
   "metadata": {},
   "outputs": [
    {
     "data": {
      "text/markdown": [
       "$\\alpha_1 - \\alpha_0 = -4.5 - -4 = -0.5 < 0 =>$ меняем знак"
      ],
      "text/plain": [
       "<IPython.core.display.Markdown object>"
      ]
     },
     "execution_count": 15,
     "metadata": {},
     "output_type": "execute_result"
    }
   ],
   "source": [
    "r = '> 0' if a_1 - a_0 > 0 else '< 0'\n",
    "md(f'$\\\\alpha_1 - \\\\alpha_0 = {a_1} - {a_0} = {a_1 - a_0} {r} =>$ меняем знак')"
   ]
  },
  {
   "cell_type": "code",
   "execution_count": 29,
   "id": "acbdc9f7",
   "metadata": {},
   "outputs": [
    {
     "data": {
      "text/markdown": [
       "$\\frac{\\sum_{k=1}^n X_k}{n} <= \\frac{\\sigma_1^2 \\left(\\frac{ln(C)}{n} - \n",
       "   \\frac{\\alpha_0^2-\\alpha_1^2}{2\\sigma_1^2}\\right)}{\\alpha_1 - \\alpha_0} = C_5$"
      ],
      "text/plain": [
       "<IPython.core.display.Markdown object>"
      ]
     },
     "execution_count": 29,
     "metadata": {},
     "output_type": "execute_result"
    }
   ],
   "source": [
    "md(f'''$\\\\frac{{\\\\sum_{{k=1}}^n X_k}}{{n}} <= \\\\frac{{\\\\sigma_1^2 \\\\left(\\\\frac{{ln(C)}}{{n}} - \n",
    "   \\\\frac{{\\\\alpha_0^2-\\\\alpha_1^2}}{{2\\\\sigma_1^2}}\\\\right)}}{{\\\\alpha_1 - \\\\alpha_0}} = C_5$''')"
   ]
  },
  {
   "cell_type": "markdown",
   "id": "e0bcc8d1",
   "metadata": {},
   "source": [
    "#### Значение $C_5$ было получено из предыдущей задачи"
   ]
  },
  {
   "cell_type": "code",
   "execution_count": 43,
   "id": "82d41958",
   "metadata": {},
   "outputs": [],
   "source": [
    "C = np.exp(abs((4.5285 * (a_1 - a_0) / sigma_1 ** 2 - (a_0 ** 2 - a_1 ** 2) / (2 * sigma_1 ** 2)) * n))\n"
   ]
  },
  {
   "cell_type": "code",
   "execution_count": 44,
   "id": "8774a8c4",
   "metadata": {},
   "outputs": [
    {
     "data": {
      "text/plain": [
       "4.6095060939906745"
      ]
     },
     "execution_count": 44,
     "metadata": {},
     "output_type": "execute_result"
    }
   ],
   "source": [
    "C"
   ]
  },
  {
   "cell_type": "markdown",
   "id": "3d8073d6",
   "metadata": {},
   "source": [
    "#### Таким образом, получаем критическое множество:"
   ]
  },
  {
   "cell_type": "markdown",
   "id": "5024487d",
   "metadata": {},
   "source": [
    "$$S = \\left\\{ \\frac{L(X_1 ... X_n, \\alpha_1)}{L(X_1 ... X_n, \\alpha_0)} \\geq 4.6095\\right\\}$$"
   ]
  },
  {
   "cell_type": "markdown",
   "id": "7aa51fe2",
   "metadata": {},
   "source": [
    "#### Приведем графическую иллюстрацию последовательного критерия:"
   ]
  },
  {
   "cell_type": "code",
   "execution_count": 45,
   "id": "f5737515",
   "metadata": {},
   "outputs": [
    {
     "data": {
      "image/png": "[encoded data removed]",
      "text/plain": [
       "<Figure size 640x480 with 1 Axes>"
      ]
     },
     "metadata": {},
     "output_type": "display_data"
    }
   ],
   "source": [
    "X_k = df.values.flatten()\n",
    "\n",
    "def Z(j): # определение функции Z(j)\n",
    "    return np.exp(j * (a_0 ** 2 - a_1 ** 2) / (2 * sigma_1 ** 2) + (a_1 - a_0) / (sigma_1 ** 2) \n",
    "                  * sum([X_k[i] for i in range(j)]))\n",
    "\n",
    "x = np.arange(0, n, 1)\n",
    "plt.plot(x, [Z(j) for j in x], label='Z(i)')\n",
    "plt.plot(x, [A for j in x], label='A')\n",
    "plt.plot(x, [B for j in x], label='B')\n",
    "plt.plot(x, [C for j in x], label='C')\n",
    "\n",
    "plt.legend()\n",
    "plt.show()"
   ]
  },
  {
   "cell_type": "markdown",
   "id": "42b7f2db",
   "metadata": {},
   "source": [
    "#### При этом при n = 80:"
   ]
  },
  {
   "cell_type": "code",
   "execution_count": 47,
   "id": "ad8d57d8",
   "metadata": {},
   "outputs": [
    {
     "data": {
      "text/markdown": [
       "$\\frac{L(X_1 ... X_n, \\alpha_1)}{L(X_1 ... X_n, \\alpha_0)} = 2.649622056404534 < 4.6095060939906745$"
      ],
      "text/plain": [
       "<IPython.core.display.Markdown object>"
      ]
     },
     "execution_count": 47,
     "metadata": {},
     "output_type": "execute_result"
    }
   ],
   "source": [
    "md(f'$\\\\frac{{L(X_1 ... X_n, \\\\alpha_1)}}{{L(X_1 ... X_n, \\\\alpha_0)}} = {Z(80)} < {C}$')"
   ]
  },
  {
   "cell_type": "markdown",
   "id": "fa0521e1",
   "metadata": {},
   "source": [
    "#### Из этого делаем вывод, что принимаем гипотезу $H_0$"
   ]
  },
  {
   "cell_type": "markdown",
   "id": "b8b53a64",
   "metadata": {},
   "source": [
    "## 5. Выводы"
   ]
  },
  {
   "cell_type": "markdown",
   "id": "b4e952a2",
   "metadata": {},
   "source": [
    "При критерии Неймана-Пирсона выбирается гипотеза H0, что соответствует 3 пункту 5-го домашнего задания. Критерий Вальда не дает точного ответа на вопрос какую гипотезу принимать , недостаточен объем выборки."
   ]
  }
 ],
 "metadata": {
  "kernelspec": {
   "display_name": "Python 3 (ipykernel)",
   "language": "python",
   "name": "python3"
  },
  "language_info": {
   "codemirror_mode": {
    "name": "ipython",
    "version": 3
   },
   "file_extension": ".py",
   "mimetype": "text/x-python",
   "name": "python",
   "nbconvert_exporter": "python",
   "pygments_lexer": "ipython3",
   "version": "3.9.13"
  }
 },
 "nbformat": 4,
 "nbformat_minor": 5
}
