{
 "cells": [
  {
   "cell_type": "markdown",
   "id": "fe137335",
   "metadata": {},
   "source": [
    "# Критерий согласия для проверки простой непараметрической гипотезы"
   ]
  },
  {
   "cell_type": "code",
   "execution_count": 62,
   "id": "8b042e72",
   "metadata": {},
   "outputs": [],
   "source": [
    "A = 2\n",
    "D = 5\n",
    "n = 250"
   ]
  },
  {
   "cell_type": "markdown",
   "id": "bfc7bfef",
   "metadata": {},
   "source": [
    "#### При A = 2 выборка получена из закона распределения, совпадающего с распределением η=1-$\\sqrtξ$ , ξ~R[0,1] "
   ]
  },
  {
   "cell_type": "markdown",
   "id": "0afd1f9d",
   "metadata": {},
   "source": [
    "#### Метрика $D5(n,l)=\\sum_j\\frac{(\\nu_j-np_j)^2}{np_j(n - np_j)}$"
   ]
  },
  {
   "cell_type": "markdown",
   "id": "12a1a069",
   "metadata": {},
   "source": [
    "## 0. Импорт нужных библиотек"
   ]
  },
  {
   "cell_type": "code",
   "execution_count": 63,
   "id": "2f407cbc",
   "metadata": {},
   "outputs": [],
   "source": [
    "import numpy as np\n",
    "import pandas as pd\n",
    "import matplotlib.pyplot as plt\n",
    "from IPython.display import Markdown as md\n",
    "from IPython.display import Latex\n",
    "import math\n",
    "import scipy\n",
    "import warnings\n",
    "warnings.filterwarnings(\"ignore\")"
   ]
  },
  {
   "cell_type": "markdown",
   "id": "1358e5c2",
   "metadata": {},
   "source": [
    "## 1. Моделирование выборки, подчиняющейся основной гипотезе"
   ]
  },
  {
   "cell_type": "code",
   "execution_count": 64,
   "id": "d026c39d",
   "metadata": {},
   "outputs": [
    {
     "name": "stdout",
     "output_type": "stream",
     "text": [
      "[2.01338496e-01 2.58776746e-03 1.21568043e-01 1.00558134e-02\n",
      " 3.80278486e-01 7.95360229e-03 2.30451271e-01 1.90570609e-01\n",
      " 1.29384348e-01 2.12362243e-01 1.89100846e-04 2.68064383e-01\n",
      " 4.09444374e-01 8.28040402e-01 3.08372885e-01 2.21204091e-02\n",
      " 4.45510714e-02 4.56010705e-01 1.22110392e-01 6.97645555e-02\n",
      " 5.29785690e-01 1.91371623e-02 4.65114917e-01 1.08807498e-01\n",
      " 4.18996627e-01 1.35000559e-01 8.85904360e-01 7.01873692e-01\n",
      " 1.85476922e-01 2.70926340e-01 1.60738638e-01 5.78793575e-01\n",
      " 7.23830831e-01 8.95924945e-01 8.10205516e-02 2.10980157e-02\n",
      " 2.62692394e-01 5.30869436e-01 5.37803286e-01 2.09033163e-01\n",
      " 7.74411736e-01 5.02043928e-01 9.78059447e-02 7.75367866e-01\n",
      " 1.75916495e-01 3.33882800e-01 1.09413061e-01 2.03260837e-01\n",
      " 4.94771044e-01 1.34931249e-01 1.60484735e-01 3.67930405e-01\n",
      " 1.81849024e-01 2.48538626e-01 2.72480516e-01 1.27812814e-01\n",
      " 6.67257095e-01 1.26168006e-02 2.34512247e-01 4.25571938e-01\n",
      " 3.08730689e-01 7.84231921e-01 3.08456398e-01 2.80101800e-01\n",
      " 2.34102251e-01 1.07502236e-01 2.64352360e-01 7.32426725e-02\n",
      " 7.96860130e-02 1.99421863e-01 2.93492265e-01 2.89909090e-01\n",
      " 3.46005534e-01 9.13708070e-01 3.42294184e-01 4.66049760e-01\n",
      " 3.18790449e-01 1.15203536e-01 7.01412418e-02 4.41350018e-01\n",
      " 2.85811734e-02 2.13577199e-01 7.60187367e-01 5.03960672e-01\n",
      " 3.65768725e-01 2.10567380e-02 1.31270431e-01 5.87323038e-01\n",
      " 3.28573729e-01 1.35615325e-01 3.11287750e-01 3.81487840e-01\n",
      " 7.58287633e-02 2.79830126e-02 4.48118680e-01 1.06406268e-01\n",
      " 2.63279557e-01 1.18984604e-01 4.69596612e-01 8.04195736e-02\n",
      " 1.86452113e-01 5.90021860e-02 2.88111667e-01 3.87606950e-01\n",
      " 2.10588185e-01 1.69254615e-01 2.22538328e-01 2.74871734e-01\n",
      " 2.76564714e-01 3.52808902e-01 4.60009469e-01 4.28515996e-01\n",
      " 3.88667697e-02 4.81896745e-01 2.78239204e-01 1.09118624e-01\n",
      " 2.80151490e-01 2.79152911e-01 2.01171882e-01 4.11701835e-01\n",
      " 2.06218877e-01 1.52950919e-01 5.20435824e-01 8.61390068e-01\n",
      " 3.53161366e-01 4.69664134e-02 4.81915462e-01 1.51479794e-01\n",
      " 1.81201040e-01 3.82614120e-02 7.24466337e-01 5.52678023e-02\n",
      " 4.56328891e-01 2.86312938e-01 3.98186518e-01 2.27025721e-01\n",
      " 3.85493996e-01 1.21411148e-01 9.29430155e-02 2.96690677e-01\n",
      " 5.40143167e-01 1.00185665e-01 7.98306269e-01 2.04112483e-01\n",
      " 2.01163955e-01 2.90921159e-01 5.89582943e-01 4.67325541e-02\n",
      " 1.77860872e-01 7.68465907e-02 4.83216558e-01 2.03568722e-01\n",
      " 8.65200315e-01 7.12941558e-01 3.17557822e-01 4.49129838e-01\n",
      " 2.68084446e-02 8.70069557e-01 4.23341366e-01 3.50817323e-02\n",
      " 2.70393874e-01 1.27677876e-01 4.12338369e-01 2.12616964e-01\n",
      " 1.93870229e-01 1.96095039e-01 5.37162184e-02 1.31381976e-01\n",
      " 4.32512683e-01 3.93811853e-01 1.84948972e-01 1.34265128e-01\n",
      " 4.83698575e-01 8.74044231e-02 3.55411516e-01 5.21034489e-01\n",
      " 1.22601802e-01 5.68621773e-01 1.22274363e-01 7.07454868e-03\n",
      " 3.99917615e-01 5.78009202e-01 8.03945729e-01 6.21566214e-01\n",
      " 4.79723667e-01 2.32500117e-01 5.13029112e-01 2.78699858e-01\n",
      " 2.01561387e-01 2.92016482e-01 7.94409004e-02 1.75525824e-01\n",
      " 1.03484694e-01 3.45486792e-01 7.41139556e-03 3.97064021e-01\n",
      " 4.02125269e-01 1.90684182e-01 4.98079888e-01 6.43039618e-02\n",
      " 4.28152444e-01 1.52664018e-02 6.64613907e-01 1.04448823e-01\n",
      " 3.30533746e-02 4.61921882e-01 3.92761266e-01 6.51210723e-01\n",
      " 6.32157071e-01 3.07684880e-01 7.46133172e-01 1.52731876e-01\n",
      " 2.69902120e-01 9.71229233e-02 2.65523861e-01 2.21267577e-02\n",
      " 1.08556657e-01 3.92469109e-02 2.85869878e-02 7.61378709e-01\n",
      " 1.20714310e-01 1.94225791e-01 3.52034486e-01 1.91872095e-01\n",
      " 6.82365894e-01 4.90274036e-01 4.90877572e-01 1.69961398e-01\n",
      " 3.63230440e-01 1.24727655e-01 3.34768356e-01 6.50303941e-01\n",
      " 3.36500551e-01 2.06305670e-01 6.23888472e-01 2.32069596e-01\n",
      " 3.68637732e-01 4.45310811e-01 3.11402079e-01 2.37477252e-01\n",
      " 1.72337704e-01 2.90170585e-03 5.43830893e-01 2.45418730e-01\n",
      " 1.46525391e-01 2.54273164e-01 5.55018178e-01 8.93244657e-01\n",
      " 2.77318594e-02 4.50121962e-01]\n"
     ]
    }
   ],
   "source": [
    "m = 20000\n",
    "\n",
    "x = np.zeros((m, n), dtype=float)\n",
    "for i in range(m):\n",
    "    x[i] = np.random.uniform(0, 1, size=n)\n",
    "    \n",
    "x = 1 - np.sqrt(x)\n",
    "print(x[1])"
   ]
  },
  {
   "cell_type": "markdown",
   "id": "f9d69060",
   "metadata": {},
   "source": [
    "## 2. Функция распределения, соответствующая основной гипотезе"
   ]
  },
  {
   "cell_type": "markdown",
   "id": "734999b3",
   "metadata": {},
   "source": [
    "$$η=1-\\sqrtξ , ξ \\in [0,1] $$"
   ]
  },
  {
   "cell_type": "markdown",
   "id": "f2d3729a",
   "metadata": {},
   "source": [
    "$$p_ξ(x) = 1$$"
   ]
  },
  {
   "cell_type": "markdown",
   "id": "abacb349",
   "metadata": {},
   "source": [
    "$$g(x) = 1 - \\sqrt x => g^{-1}(y) = (1 - y)^2$$"
   ]
  },
  {
   "cell_type": "markdown",
   "id": "47387cb4",
   "metadata": {},
   "source": [
    "$$p_η(y) = p_ξ(g^{-1}(y)) * |(g^{-1}(y))^{'}| = 2 |y - 1| =>$$"
   ]
  },
  {
   "cell_type": "markdown",
   "id": "95a78c04",
   "metadata": {},
   "source": [
    "$$F_η(y) = 2y - y^2, y \\in [0, 1]$$"
   ]
  },
  {
   "cell_type": "markdown",
   "id": "6e15e7ee",
   "metadata": {},
   "source": [
    "## 3. Формирование интервалов"
   ]
  },
  {
   "cell_type": "code",
   "execution_count": 65,
   "id": "c167569f",
   "metadata": {},
   "outputs": [
    {
     "data": {
      "text/markdown": [
       "Количество интервалов: $l = \\lfloor 1+log_2n \\rfloor = 8$"
      ],
      "text/plain": [
       "<IPython.core.display.Markdown object>"
      ]
     },
     "execution_count": 65,
     "metadata": {},
     "output_type": "execute_result"
    }
   ],
   "source": [
    "l = math.trunc(1+math.log(n,2))\n",
    "xn = np.linspace(0, 1, l + 1)\n",
    "\n",
    "def F(y):\n",
    "    return 2 * y - y ** 2\n",
    "\n",
    "npi = (F(xn)[1:] - F(xn)[:-1]) * n\n",
    "md(f'Количество интервалов: $l = \\lfloor 1+log_2n \\\\rfloor = {l}$')"
   ]
  },
  {
   "cell_type": "code",
   "execution_count": 66,
   "id": "0d386b6a",
   "metadata": {},
   "outputs": [
    {
     "data": {
      "text/html": [
       "<div>\n",
       "<style scoped>\n",
       "    .dataframe tbody tr th:only-of-type {\n",
       "        vertical-align: middle;\n",
       "    }\n",
       "\n",
       "    .dataframe tbody tr th {\n",
       "        vertical-align: top;\n",
       "    }\n",
       "\n",
       "    .dataframe thead th {\n",
       "        text-align: right;\n",
       "    }\n",
       "</style>\n",
       "<table border=\"1\" class=\"dataframe\">\n",
       "  <thead>\n",
       "    <tr style=\"text-align: right;\">\n",
       "      <th></th>\n",
       "      <th>0</th>\n",
       "      <th>1</th>\n",
       "      <th>2</th>\n",
       "      <th>3</th>\n",
       "      <th>4</th>\n",
       "      <th>5</th>\n",
       "      <th>6</th>\n",
       "      <th>7</th>\n",
       "    </tr>\n",
       "  </thead>\n",
       "  <tbody>\n",
       "    <tr>\n",
       "      <th>Интервалы</th>\n",
       "      <td>[0.0, 0.125)</td>\n",
       "      <td>[0.125, 0.25)</td>\n",
       "      <td>[0.25, 0.375)</td>\n",
       "      <td>[0.375, 0.5)</td>\n",
       "      <td>[0.5, 0.625)</td>\n",
       "      <td>[0.625, 0.75)</td>\n",
       "      <td>[0.75, 0.875)</td>\n",
       "      <td>[0.875, 1.0]</td>\n",
       "    </tr>\n",
       "    <tr>\n",
       "      <th>$np_i$</th>\n",
       "      <td>58.59375</td>\n",
       "      <td>50.78125</td>\n",
       "      <td>42.96875</td>\n",
       "      <td>35.15625</td>\n",
       "      <td>27.34375</td>\n",
       "      <td>19.53125</td>\n",
       "      <td>11.71875</td>\n",
       "      <td>3.90625</td>\n",
       "    </tr>\n",
       "    <tr>\n",
       "      <th>1) $\\nu_i$</th>\n",
       "      <td>56.0</td>\n",
       "      <td>47.0</td>\n",
       "      <td>49.0</td>\n",
       "      <td>36.0</td>\n",
       "      <td>24.0</td>\n",
       "      <td>19.0</td>\n",
       "      <td>13.0</td>\n",
       "      <td>6.0</td>\n",
       "    </tr>\n",
       "    <tr>\n",
       "      <th>2) $\\nu_i$</th>\n",
       "      <td>62.0</td>\n",
       "      <td>57.0</td>\n",
       "      <td>47.0</td>\n",
       "      <td>40.0</td>\n",
       "      <td>18.0</td>\n",
       "      <td>11.0</td>\n",
       "      <td>11.0</td>\n",
       "      <td>4.0</td>\n",
       "    </tr>\n",
       "    <tr>\n",
       "      <th>3) $\\nu_i$</th>\n",
       "      <td>50.0</td>\n",
       "      <td>49.0</td>\n",
       "      <td>40.0</td>\n",
       "      <td>40.0</td>\n",
       "      <td>26.0</td>\n",
       "      <td>24.0</td>\n",
       "      <td>20.0</td>\n",
       "      <td>1.0</td>\n",
       "    </tr>\n",
       "    <tr>\n",
       "      <th>...</th>\n",
       "      <td>...</td>\n",
       "      <td>...</td>\n",
       "      <td>...</td>\n",
       "      <td>...</td>\n",
       "      <td>...</td>\n",
       "      <td>...</td>\n",
       "      <td>...</td>\n",
       "      <td>...</td>\n",
       "    </tr>\n",
       "    <tr>\n",
       "      <th>19996) $\\nu_i$</th>\n",
       "      <td>54.0</td>\n",
       "      <td>49.0</td>\n",
       "      <td>50.0</td>\n",
       "      <td>43.0</td>\n",
       "      <td>25.0</td>\n",
       "      <td>18.0</td>\n",
       "      <td>10.0</td>\n",
       "      <td>1.0</td>\n",
       "    </tr>\n",
       "    <tr>\n",
       "      <th>19997) $\\nu_i$</th>\n",
       "      <td>63.0</td>\n",
       "      <td>49.0</td>\n",
       "      <td>32.0</td>\n",
       "      <td>37.0</td>\n",
       "      <td>32.0</td>\n",
       "      <td>17.0</td>\n",
       "      <td>16.0</td>\n",
       "      <td>4.0</td>\n",
       "    </tr>\n",
       "    <tr>\n",
       "      <th>19998) $\\nu_i$</th>\n",
       "      <td>80.0</td>\n",
       "      <td>40.0</td>\n",
       "      <td>47.0</td>\n",
       "      <td>37.0</td>\n",
       "      <td>22.0</td>\n",
       "      <td>19.0</td>\n",
       "      <td>4.0</td>\n",
       "      <td>1.0</td>\n",
       "    </tr>\n",
       "    <tr>\n",
       "      <th>19999) $\\nu_i$</th>\n",
       "      <td>64.0</td>\n",
       "      <td>41.0</td>\n",
       "      <td>56.0</td>\n",
       "      <td>36.0</td>\n",
       "      <td>26.0</td>\n",
       "      <td>14.0</td>\n",
       "      <td>12.0</td>\n",
       "      <td>1.0</td>\n",
       "    </tr>\n",
       "    <tr>\n",
       "      <th>20000) $\\nu_i$</th>\n",
       "      <td>59.0</td>\n",
       "      <td>54.0</td>\n",
       "      <td>49.0</td>\n",
       "      <td>37.0</td>\n",
       "      <td>24.0</td>\n",
       "      <td>11.0</td>\n",
       "      <td>15.0</td>\n",
       "      <td>1.0</td>\n",
       "    </tr>\n",
       "  </tbody>\n",
       "</table>\n",
       "<p>20002 rows × 8 columns</p>\n",
       "</div>"
      ],
      "text/plain": [
       "                           0              1              2             3  \\\n",
       "Интервалы       [0.0, 0.125)  [0.125, 0.25)  [0.25, 0.375)  [0.375, 0.5)   \n",
       "$np_i$              58.59375       50.78125       42.96875      35.15625   \n",
       "1) $\\nu_i$              56.0           47.0           49.0          36.0   \n",
       "2) $\\nu_i$              62.0           57.0           47.0          40.0   \n",
       "3) $\\nu_i$              50.0           49.0           40.0          40.0   \n",
       "...                      ...            ...            ...           ...   \n",
       "19996) $\\nu_i$          54.0           49.0           50.0          43.0   \n",
       "19997) $\\nu_i$          63.0           49.0           32.0          37.0   \n",
       "19998) $\\nu_i$          80.0           40.0           47.0          37.0   \n",
       "19999) $\\nu_i$          64.0           41.0           56.0          36.0   \n",
       "20000) $\\nu_i$          59.0           54.0           49.0          37.0   \n",
       "\n",
       "                           4              5              6             7  \n",
       "Интервалы       [0.5, 0.625)  [0.625, 0.75)  [0.75, 0.875)  [0.875, 1.0]  \n",
       "$np_i$              27.34375       19.53125       11.71875       3.90625  \n",
       "1) $\\nu_i$              24.0           19.0           13.0           6.0  \n",
       "2) $\\nu_i$              18.0           11.0           11.0           4.0  \n",
       "3) $\\nu_i$              26.0           24.0           20.0           1.0  \n",
       "...                      ...            ...            ...           ...  \n",
       "19996) $\\nu_i$          25.0           18.0           10.0           1.0  \n",
       "19997) $\\nu_i$          32.0           17.0           16.0           4.0  \n",
       "19998) $\\nu_i$          22.0           19.0            4.0           1.0  \n",
       "19999) $\\nu_i$          26.0           14.0           12.0           1.0  \n",
       "20000) $\\nu_i$          24.0           11.0           15.0           1.0  \n",
       "\n",
       "[20002 rows x 8 columns]"
      ]
     },
     "execution_count": 66,
     "metadata": {},
     "output_type": "execute_result"
    }
   ],
   "source": [
    "nui = np.zeros(m * l).reshape(m, l)\n",
    "for i in range(m):\n",
    "    grouped = np.histogram(x[i], xn)[0]\n",
    "    nui[i] = np.array(grouped)\n",
    "    \n",
    "df = pd.DataFrame()\n",
    "intervals = np.round(np.linspace(0,1,l+1), 7)\n",
    "interval_rows = ['[{}, {})'.format(intervals[val], intervals[val+1]) for val in range(len(intervals)-2)]\n",
    "interval_rows.append('[{}, {}]'.format(intervals[-2], intervals[-1]))\n",
    "df['Интервалы'] = interval_rows\n",
    "df['$np_i$'] = npi\n",
    "\n",
    "for i in range(m):\n",
    "    df[f'{i + 1}) $\\nu_i$'] = nui[i]\n",
    "\n",
    "df.transpose()"
   ]
  },
  {
   "cell_type": "markdown",
   "id": "72dc4ba0",
   "metadata": {},
   "source": [
    "## 4. Вычисление метрик для сгенерированных выборок"
   ]
  },
  {
   "cell_type": "code",
   "execution_count": 67,
   "id": "188ec935",
   "metadata": {},
   "outputs": [
    {
     "name": "stdout",
     "output_type": "stream",
     "text": [
      "[0.00116488 0.00129913 0.00137216 ... 0.16016535 0.16395956 0.18869845]\n"
     ]
    }
   ],
   "source": [
    "D = np.zeros(m)\n",
    "for i in range(m):\n",
    "    D[i] = np.sum((nui[i]-npi) ** 2 / npi/(n-npi))\n",
    "\n",
    "D.sort() # сортируем по возрастанию\n",
    "print(D)"
   ]
  },
  {
   "cell_type": "code",
   "execution_count": 68,
   "id": "e77f158f",
   "metadata": {},
   "outputs": [
    {
     "data": {
      "image/png": "[encoded data removed]",
      "text/plain": [
       "<Figure size 640x480 with 1 Axes>"
      ]
     },
     "metadata": {},
     "output_type": "display_data"
    }
   ],
   "source": [
    "plt.hist(D);\n",
    "plt.title('Гистограмма распределения значений')\n",
    "plt.show()"
   ]
  },
  {
   "cell_type": "markdown",
   "id": "70fcb238",
   "metadata": {},
   "source": [
    "## 5. Эмпирические квантили для различных уровней значимости"
   ]
  },
  {
   "cell_type": "code",
   "execution_count": 69,
   "id": "9570ee48",
   "metadata": {},
   "outputs": [
    {
     "data": {
      "text/markdown": [
       "$D_{кр}(0.01) = D[19800] = 0.086$<br>$D_{кр}(0.05) = D[19000] = 0.064$<br>$D_{кр}(0.1) = D[18000] = 0.055$<br>"
      ],
      "text/plain": [
       "<IPython.core.display.Markdown object>"
      ]
     },
     "execution_count": 69,
     "metadata": {},
     "output_type": "execute_result"
    }
   ],
   "source": [
    "alpha = [0.01, 0.05, 0.1]\n",
    "D_alpha = [0, 0, 0]\n",
    "i = 0\n",
    "res = ''\n",
    "for al in alpha:\n",
    "    D_alpha[i] = D[math.trunc(m * (1 - al))] \n",
    "    i += 1\n",
    "    res += f'$D_{{кр}}({al}) = D[{math.trunc(m * (1 - al))}] = {round(D_alpha[i - 1], 3)}$<br>'\n",
    "    \n",
    "md(res)"
   ]
  },
  {
   "cell_type": "markdown",
   "id": "5e749580",
   "metadata": {},
   "source": [
    "## 6. Тестирование критерия для различных выборок:"
   ]
  },
  {
   "cell_type": "markdown",
   "id": "8b20571d",
   "metadata": {},
   "source": [
    "### 6.1\tПротестируем критерий на выборке, полученной из распределения R[0; 1]  (A = 0). Для этого сгенерируем выборку, найдем эмпирические частоты и вычислим статистику.\n"
   ]
  },
  {
   "cell_type": "code",
   "execution_count": 70,
   "id": "27f7258c",
   "metadata": {},
   "outputs": [],
   "source": [
    "x1 = np.random.uniform(0, 1, size=n)\n",
    "nui1 = np.histogram(x1, xn)[0]\n",
    "D1 = np.sum((nui1-npi)**2 / npi/(n - npi))\n"
   ]
  },
  {
   "cell_type": "code",
   "execution_count": 71,
   "id": "65b72709",
   "metadata": {},
   "outputs": [
    {
     "data": {
      "text/html": [
       "<div>\n",
       "<style scoped>\n",
       "    .dataframe tbody tr th:only-of-type {\n",
       "        vertical-align: middle;\n",
       "    }\n",
       "\n",
       "    .dataframe tbody tr th {\n",
       "        vertical-align: top;\n",
       "    }\n",
       "\n",
       "    .dataframe thead th {\n",
       "        text-align: right;\n",
       "    }\n",
       "</style>\n",
       "<table border=\"1\" class=\"dataframe\">\n",
       "  <thead>\n",
       "    <tr style=\"text-align: right;\">\n",
       "      <th></th>\n",
       "      <th>0</th>\n",
       "      <th>1</th>\n",
       "      <th>2</th>\n",
       "      <th>3</th>\n",
       "      <th>4</th>\n",
       "      <th>5</th>\n",
       "      <th>6</th>\n",
       "      <th>7</th>\n",
       "      <th>8</th>\n",
       "      <th>9</th>\n",
       "    </tr>\n",
       "  </thead>\n",
       "  <tbody>\n",
       "    <tr>\n",
       "      <th>Интервал</th>\n",
       "      <td>0.107559</td>\n",
       "      <td>0.20631</td>\n",
       "      <td>0.305061</td>\n",
       "      <td>0.403812</td>\n",
       "      <td>0.502563</td>\n",
       "      <td>0.601314</td>\n",
       "      <td>0.700065</td>\n",
       "      <td>0.798816</td>\n",
       "      <td>0.897567</td>\n",
       "      <td>0.996318</td>\n",
       "    </tr>\n",
       "    <tr>\n",
       "      <th>Количество значений</th>\n",
       "      <td>22.000000</td>\n",
       "      <td>28.00000</td>\n",
       "      <td>26.000000</td>\n",
       "      <td>24.000000</td>\n",
       "      <td>26.000000</td>\n",
       "      <td>27.000000</td>\n",
       "      <td>23.000000</td>\n",
       "      <td>26.000000</td>\n",
       "      <td>19.000000</td>\n",
       "      <td>29.000000</td>\n",
       "    </tr>\n",
       "  </tbody>\n",
       "</table>\n",
       "</div>"
      ],
      "text/plain": [
       "                             0         1          2          3          4  \\\n",
       "Интервал              0.107559   0.20631   0.305061   0.403812   0.502563   \n",
       "Количество значений  22.000000  28.00000  26.000000  24.000000  26.000000   \n",
       "\n",
       "                             5          6          7          8          9  \n",
       "Интервал              0.601314   0.700065   0.798816   0.897567   0.996318  \n",
       "Количество значений  27.000000  23.000000  26.000000  19.000000  29.000000  "
      ]
     },
     "metadata": {},
     "output_type": "display_data"
    },
    {
     "name": "stdout",
     "output_type": "stream",
     "text": [
      "        Интервал  Количество значений\n",
      "count  10.000000            10.000000\n",
      "mean    0.551939            25.000000\n",
      "std     0.298983             3.018462\n",
      "min     0.107559            19.000000\n",
      "25%     0.329749            23.250000\n",
      "50%     0.551939            26.000000\n",
      "75%     0.774128            26.750000\n",
      "max     0.996318            29.000000\n"
     ]
    },
    {
     "data": {
      "image/png": "[encoded data removed]",
      "text/plain": [
       "<Figure size 640x480 with 1 Axes>"
      ]
     },
     "metadata": {},
     "output_type": "display_data"
    }
   ],
   "source": [
    "counts, bins, bars = plt.hist(x1)\n",
    "\n",
    "data = pd.DataFrame(columns = range(10), index=['Интервал', 'Количество значений'], data=[bins[1:], counts])\n",
    "display(data)\n",
    "print(data.transpose().describe())\n",
    "plt.hist(x1);\n",
    "plt.title('Гистограмма распределения значений из равномерного закона')\n",
    "plt.show()"
   ]
  },
  {
   "cell_type": "code",
   "execution_count": null,
   "id": "c24a972e",
   "metadata": {},
   "outputs": [],
   "source": []
  },
  {
   "cell_type": "code",
   "execution_count": 72,
   "id": "8265a72b",
   "metadata": {},
   "outputs": [
    {
     "data": {
      "text/markdown": [
       "$1.0930861546955675 > D_{кр}(\\alpha), \\forall \\alpha \\in [0.01, 0.05, 0.1]$"
      ],
      "text/plain": [
       "<IPython.core.display.Markdown object>"
      ]
     },
     "execution_count": 72,
     "metadata": {},
     "output_type": "execute_result"
    }
   ],
   "source": [
    "md(f'${D1} > D_{{кр}}(\\\\alpha), \\\\forall \\\\alpha \\\\in [0.01, 0.05, 0.1]$')"
   ]
  },
  {
   "cell_type": "markdown",
   "id": "2c5f8cd3",
   "metadata": {},
   "source": [
    "#### Из этого делаем вывод, что гипотеза о том, что данная выборка распределена по η=1- $\\sqrtξ$ , ξ~R[0,1], отвергается."
   ]
  },
  {
   "cell_type": "markdown",
   "id": "4e297ccf",
   "metadata": {},
   "source": [
    "### 6.2 \tПротестируем критерий на выборке, полученной из распределения η= $\\sqrt ξ$, ξ~R[0,1] (A=1) Для этого сгенерируем выборку из равноменрого закона, найдем эмпирические частоты и вычислим статистику.\n"
   ]
  },
  {
   "cell_type": "code",
   "execution_count": 73,
   "id": "70b1f64f",
   "metadata": {},
   "outputs": [],
   "source": [
    "x2 = np.random.uniform(0, 1, size=n)\n",
    "x2 = np.sqrt(x2)\n",
    "nui2 = np.histogram(x2, xn)[0]\n",
    "D2 = np.sum((nui2-npi)**2 / npi/(n-npi))\n"
   ]
  },
  {
   "cell_type": "code",
   "execution_count": 74,
   "id": "2db9c635",
   "metadata": {},
   "outputs": [
    {
     "data": {
      "text/html": [
       "<div>\n",
       "<style scoped>\n",
       "    .dataframe tbody tr th:only-of-type {\n",
       "        vertical-align: middle;\n",
       "    }\n",
       "\n",
       "    .dataframe tbody tr th {\n",
       "        vertical-align: top;\n",
       "    }\n",
       "\n",
       "    .dataframe thead th {\n",
       "        text-align: right;\n",
       "    }\n",
       "</style>\n",
       "<table border=\"1\" class=\"dataframe\">\n",
       "  <thead>\n",
       "    <tr style=\"text-align: right;\">\n",
       "      <th></th>\n",
       "      <th>0</th>\n",
       "      <th>1</th>\n",
       "      <th>2</th>\n",
       "      <th>3</th>\n",
       "      <th>4</th>\n",
       "      <th>5</th>\n",
       "      <th>6</th>\n",
       "      <th>7</th>\n",
       "      <th>8</th>\n",
       "      <th>9</th>\n",
       "    </tr>\n",
       "  </thead>\n",
       "  <tbody>\n",
       "    <tr>\n",
       "      <th>Интервал</th>\n",
       "      <td>0.134999</td>\n",
       "      <td>0.231076</td>\n",
       "      <td>0.327153</td>\n",
       "      <td>0.42323</td>\n",
       "      <td>0.519307</td>\n",
       "      <td>0.615384</td>\n",
       "      <td>0.711461</td>\n",
       "      <td>0.807538</td>\n",
       "      <td>0.903615</td>\n",
       "      <td>0.999692</td>\n",
       "    </tr>\n",
       "    <tr>\n",
       "      <th>Количество значений</th>\n",
       "      <td>3.000000</td>\n",
       "      <td>4.000000</td>\n",
       "      <td>16.000000</td>\n",
       "      <td>20.00000</td>\n",
       "      <td>24.000000</td>\n",
       "      <td>25.000000</td>\n",
       "      <td>33.000000</td>\n",
       "      <td>33.000000</td>\n",
       "      <td>50.000000</td>\n",
       "      <td>42.000000</td>\n",
       "    </tr>\n",
       "  </tbody>\n",
       "</table>\n",
       "</div>"
      ],
      "text/plain": [
       "                            0         1          2         3          4  \\\n",
       "Интервал             0.134999  0.231076   0.327153   0.42323   0.519307   \n",
       "Количество значений  3.000000  4.000000  16.000000  20.00000  24.000000   \n",
       "\n",
       "                             5          6          7          8          9  \n",
       "Интервал              0.615384   0.711461   0.807538   0.903615   0.999692  \n",
       "Количество значений  25.000000  33.000000  33.000000  50.000000  42.000000  "
      ]
     },
     "metadata": {},
     "output_type": "display_data"
    },
    {
     "name": "stdout",
     "output_type": "stream",
     "text": [
      "        Интервал  Количество значений\n",
      "count  10.000000            10.000000\n",
      "mean    0.567345            25.000000\n",
      "std     0.290888            15.180397\n",
      "min     0.134999             3.000000\n",
      "25%     0.351172            17.000000\n",
      "50%     0.567345            24.500000\n",
      "75%     0.783519            33.000000\n",
      "max     0.999692            50.000000\n"
     ]
    },
    {
     "data": {
      "image/png": "[encoded data removed]",
      "text/plain": [
       "<Figure size 640x480 with 1 Axes>"
      ]
     },
     "metadata": {},
     "output_type": "display_data"
    }
   ],
   "source": [
    "\n",
    "counts, bins, bars = plt.hist(x2);\n",
    "data = pd.DataFrame(columns = range(10), index=['Интервал', 'Количество значений'], data=[bins[1:], counts])\n",
    "display(data)\n",
    "print(data.transpose().describe())\n",
    "\n",
    "plt.title('Гистограмма распределения значений из закона $n=\\sqrt{\\epsilon}$')\n",
    "plt.show()"
   ]
  },
  {
   "cell_type": "code",
   "execution_count": 75,
   "id": "ca4f7292",
   "metadata": {},
   "outputs": [
    {
     "data": {
      "text/markdown": [
       "$4.328648102023741 > D_{кр}(\\alpha), \\forall \\alpha \\in [0.01, 0.05, 0.1]$"
      ],
      "text/plain": [
       "<IPython.core.display.Markdown object>"
      ]
     },
     "execution_count": 75,
     "metadata": {},
     "output_type": "execute_result"
    }
   ],
   "source": [
    "md(f'${D2} > D_{{кр}}(\\\\alpha), \\\\forall \\\\alpha \\\\in [0.01, 0.05, 0.1]$')"
   ]
  },
  {
   "cell_type": "markdown",
   "id": "011edf51",
   "metadata": {},
   "source": [
    "#### Из этого делаем вывод, что гипотеза о том, что данная выборка распределена по η=1- $\\sqrtξ$ , ξ~R[0,1], отвергается."
   ]
  },
  {
   "cell_type": "markdown",
   "id": "84860e3d",
   "metadata": {},
   "source": [
    "### 6.3\tПротестируем критерий на выборке, полученной из бэта-распределения с параметрами d1 = 10, d2 = 20. Для этого сгенерируем выборку, найдем эмпирические частоты и вычислим статистику."
   ]
  },
  {
   "cell_type": "code",
   "execution_count": 76,
   "id": "7175974b",
   "metadata": {},
   "outputs": [],
   "source": [
    "x3 = scipy.stats.beta.rvs(10, 20, size=n)\n",
    "nui3 = np.histogram(x3, xn)[0]\n",
    "D3 = np.sum((nui3-npi)**2 / npi/(n-npi))\n"
   ]
  },
  {
   "cell_type": "code",
   "execution_count": 77,
   "id": "5a625c43",
   "metadata": {
    "scrolled": false
   },
   "outputs": [
    {
     "data": {
      "text/html": [
       "<div>\n",
       "<style scoped>\n",
       "    .dataframe tbody tr th:only-of-type {\n",
       "        vertical-align: middle;\n",
       "    }\n",
       "\n",
       "    .dataframe tbody tr th {\n",
       "        vertical-align: top;\n",
       "    }\n",
       "\n",
       "    .dataframe thead th {\n",
       "        text-align: right;\n",
       "    }\n",
       "</style>\n",
       "<table border=\"1\" class=\"dataframe\">\n",
       "  <thead>\n",
       "    <tr style=\"text-align: right;\">\n",
       "      <th></th>\n",
       "      <th>0</th>\n",
       "      <th>1</th>\n",
       "      <th>2</th>\n",
       "      <th>3</th>\n",
       "      <th>4</th>\n",
       "      <th>5</th>\n",
       "      <th>6</th>\n",
       "      <th>7</th>\n",
       "      <th>8</th>\n",
       "      <th>9</th>\n",
       "    </tr>\n",
       "  </thead>\n",
       "  <tbody>\n",
       "    <tr>\n",
       "      <th>Интервал</th>\n",
       "      <td>0.154781</td>\n",
       "      <td>0.201435</td>\n",
       "      <td>0.248088</td>\n",
       "      <td>0.294741</td>\n",
       "      <td>0.341394</td>\n",
       "      <td>0.388048</td>\n",
       "      <td>0.434701</td>\n",
       "      <td>0.481354</td>\n",
       "      <td>0.528008</td>\n",
       "      <td>0.574661</td>\n",
       "    </tr>\n",
       "    <tr>\n",
       "      <th>Количество значений</th>\n",
       "      <td>4.000000</td>\n",
       "      <td>9.000000</td>\n",
       "      <td>30.000000</td>\n",
       "      <td>52.000000</td>\n",
       "      <td>50.000000</td>\n",
       "      <td>37.000000</td>\n",
       "      <td>41.000000</td>\n",
       "      <td>17.000000</td>\n",
       "      <td>7.000000</td>\n",
       "      <td>3.000000</td>\n",
       "    </tr>\n",
       "  </tbody>\n",
       "</table>\n",
       "</div>"
      ],
      "text/plain": [
       "                            0         1          2          3          4  \\\n",
       "Интервал             0.154781  0.201435   0.248088   0.294741   0.341394   \n",
       "Количество значений  4.000000  9.000000  30.000000  52.000000  50.000000   \n",
       "\n",
       "                             5          6          7         8         9  \n",
       "Интервал              0.388048   0.434701   0.481354  0.528008  0.574661  \n",
       "Количество значений  37.000000  41.000000  17.000000  7.000000  3.000000  "
      ]
     },
     "metadata": {},
     "output_type": "display_data"
    },
    {
     "name": "stdout",
     "output_type": "stream",
     "text": [
      "        Интервал  Количество значений\n",
      "count  10.000000            10.000000\n",
      "mean    0.364721            25.000000\n",
      "std     0.141250            19.287302\n",
      "min     0.154781             3.000000\n",
      "25%     0.259751             7.500000\n",
      "50%     0.364721            23.500000\n",
      "75%     0.469691            40.000000\n",
      "max     0.574661            52.000000\n"
     ]
    },
    {
     "data": {
      "image/png": "[encoded data removed]",
      "text/plain": [
       "<Figure size 640x480 with 1 Axes>"
      ]
     },
     "metadata": {},
     "output_type": "display_data"
    }
   ],
   "source": [
    "\n",
    "\n",
    "counts, bins, bars = plt.hist(x3);\n",
    "data = pd.DataFrame(columns = range(10), index=['Интервал', 'Количество значений'], data=[bins[1:], counts])\n",
    "display(data)\n",
    "print(data.transpose().describe())\n",
    "\n",
    "plt.title('Гистограмма распределения значений из бета-распределения')\n",
    "plt.show()"
   ]
  },
  {
   "cell_type": "code",
   "execution_count": 78,
   "id": "283e14a1",
   "metadata": {},
   "outputs": [
    {
     "data": {
      "text/markdown": [
       "$1.4660738663440447 > D_{кр}(\\alpha), \\forall \\alpha \\in [0.01, 0.05, 0.1]$"
      ],
      "text/plain": [
       "<IPython.core.display.Markdown object>"
      ]
     },
     "execution_count": 78,
     "metadata": {},
     "output_type": "execute_result"
    }
   ],
   "source": [
    "md(f'${D3} > D_{{кр}}(\\\\alpha), \\\\forall \\\\alpha \\\\in [0.01, 0.05, 0.1]$')"
   ]
  },
  {
   "cell_type": "markdown",
   "id": "ac70e008",
   "metadata": {},
   "source": [
    "#### Из этого делаем вывод, что гипотеза о том, что данная выборка распределена по η=1- $\\sqrtξ$ , ξ~R[0,1], отвергается."
   ]
  },
  {
   "cell_type": "markdown",
   "id": "a6b04463",
   "metadata": {},
   "source": [
    "### 6.4\tПротестируем критерий на выборке, полученной из исходного закона. Для этого сгенерируем выборку, найдем эмпирические частоты и вычислим статистику."
   ]
  },
  {
   "cell_type": "code",
   "execution_count": 79,
   "id": "07186aa7",
   "metadata": {},
   "outputs": [],
   "source": [
    "x4 = np.random.uniform(0, 1, size=n)\n",
    "x4 = 1 - np.sqrt(x4)\n",
    "nui4 = np.histogram(x4, xn)[0]\n",
    "D4 = np.sum((nui4-npi)**2 / npi/(n - npi))\n"
   ]
  },
  {
   "cell_type": "code",
   "execution_count": 80,
   "id": "1a6bd1b5",
   "metadata": {},
   "outputs": [
    {
     "data": {
      "text/html": [
       "<div>\n",
       "<style scoped>\n",
       "    .dataframe tbody tr th:only-of-type {\n",
       "        vertical-align: middle;\n",
       "    }\n",
       "\n",
       "    .dataframe tbody tr th {\n",
       "        vertical-align: top;\n",
       "    }\n",
       "\n",
       "    .dataframe thead th {\n",
       "        text-align: right;\n",
       "    }\n",
       "</style>\n",
       "<table border=\"1\" class=\"dataframe\">\n",
       "  <thead>\n",
       "    <tr style=\"text-align: right;\">\n",
       "      <th></th>\n",
       "      <th>0</th>\n",
       "      <th>1</th>\n",
       "      <th>2</th>\n",
       "      <th>3</th>\n",
       "      <th>4</th>\n",
       "      <th>5</th>\n",
       "      <th>6</th>\n",
       "      <th>7</th>\n",
       "      <th>8</th>\n",
       "      <th>9</th>\n",
       "    </tr>\n",
       "  </thead>\n",
       "  <tbody>\n",
       "    <tr>\n",
       "      <th>Интервал</th>\n",
       "      <td>0.098211</td>\n",
       "      <td>0.194933</td>\n",
       "      <td>0.291655</td>\n",
       "      <td>0.388376</td>\n",
       "      <td>0.485098</td>\n",
       "      <td>0.58182</td>\n",
       "      <td>0.678542</td>\n",
       "      <td>0.775264</td>\n",
       "      <td>0.871985</td>\n",
       "      <td>0.968707</td>\n",
       "    </tr>\n",
       "    <tr>\n",
       "      <th>Количество значений</th>\n",
       "      <td>44.000000</td>\n",
       "      <td>44.000000</td>\n",
       "      <td>37.000000</td>\n",
       "      <td>36.000000</td>\n",
       "      <td>29.000000</td>\n",
       "      <td>19.00000</td>\n",
       "      <td>16.000000</td>\n",
       "      <td>15.000000</td>\n",
       "      <td>6.000000</td>\n",
       "      <td>4.000000</td>\n",
       "    </tr>\n",
       "  </tbody>\n",
       "</table>\n",
       "</div>"
      ],
      "text/plain": [
       "                             0          1          2          3          4  \\\n",
       "Интервал              0.098211   0.194933   0.291655   0.388376   0.485098   \n",
       "Количество значений  44.000000  44.000000  37.000000  36.000000  29.000000   \n",
       "\n",
       "                            5          6          7         8         9  \n",
       "Интервал              0.58182   0.678542   0.775264  0.871985  0.968707  \n",
       "Количество значений  19.00000  16.000000  15.000000  6.000000  4.000000  "
      ]
     },
     "metadata": {},
     "output_type": "display_data"
    },
    {
     "name": "stdout",
     "output_type": "stream",
     "text": [
      "        Интервал  Количество значений\n",
      "count  10.000000            10.000000\n",
      "mean    0.533459            25.000000\n",
      "std     0.292840            14.988885\n",
      "min     0.098211             4.000000\n",
      "25%     0.315835            15.250000\n",
      "50%     0.533459            24.000000\n",
      "75%     0.751083            36.750000\n",
      "max     0.968707            44.000000\n"
     ]
    },
    {
     "data": {
      "image/png": "[encoded data removed]",
      "text/plain": [
       "<Figure size 640x480 with 1 Axes>"
      ]
     },
     "metadata": {},
     "output_type": "display_data"
    }
   ],
   "source": [
    "counts, bins, bars = plt.hist(x4);\n",
    "data = pd.DataFrame(columns = range(10), index=['Интервал', 'Количество значений'], data=[bins[1:], counts])\n",
    "display(data)\n",
    "print(data.transpose().describe())\n",
    "\n",
    "plt.title('Гистограмма распределения значений из исходного закона')\n",
    "plt.show()"
   ]
  },
  {
   "cell_type": "code",
   "execution_count": 81,
   "id": "2e12a7cd",
   "metadata": {},
   "outputs": [
    {
     "data": {
      "text/markdown": [
       "$0.011343783638827046 < D_{кр}(\\alpha), \\forall \\alpha \\in [0.01, 0.05, 0.1]$"
      ],
      "text/plain": [
       "<IPython.core.display.Markdown object>"
      ]
     },
     "execution_count": 81,
     "metadata": {},
     "output_type": "execute_result"
    }
   ],
   "source": [
    "md(f'${D4} < D_{{кр}}(\\\\alpha), \\\\forall \\\\alpha \\\\in [0.01, 0.05, 0.1]$')"
   ]
  },
  {
   "cell_type": "markdown",
   "id": "3ee2e9b6",
   "metadata": {},
   "source": [
    "#### Из этого делаем вывод, что гипотеза о том, что данная выборка распределена по η=1- $\\sqrtξ$ , ξ~R[0,1], принимается."
   ]
  },
  {
   "cell_type": "markdown",
   "id": "cb16b685",
   "metadata": {},
   "source": [
    "## 7. Вывод"
   ]
  },
  {
   "cell_type": "markdown",
   "id": "cc8b077d",
   "metadata": {},
   "source": [
    "#### На основе стохастического эксперимента был построен критерий согласия для проверки простой гипотезы. Критерий был проверен на трех выборках распределенных не в соответствие с основной гипотезой, и для каждой из них основную гипотезу отклонил, что говорит в пользу критерия. Кроме того, критерий был проверен на выборке, распределенной в соответствие с основной гипотезой. Для этого случая была получена статистика, меньшая каждого из уровней доверия, и основная гипотеза была принята, что также говорит в пользу критерия."
   ]
  }
 ],
 "metadata": {
  "kernelspec": {
   "display_name": "Python 3 (ipykernel)",
   "language": "python",
   "name": "python3"
  },
  "language_info": {
   "codemirror_mode": {
    "name": "ipython",
    "version": 3
   },
   "file_extension": ".py",
   "mimetype": "text/x-python",
   "name": "python",
   "nbconvert_exporter": "python",
   "pygments_lexer": "ipython3",
   "version": "3.9.13"
  }
 },
 "nbformat": 4,
 "nbformat_minor": 5
}
